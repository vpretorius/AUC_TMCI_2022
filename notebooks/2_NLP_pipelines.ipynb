{
  "cells": [
    {
      "cell_type": "markdown",
      "metadata": {
        "id": "UOv0iI91uz_O"
      },
      "source": [
        "# Text Normalization and Pre-processing Pipelines"
      ]
    },
    {
      "cell_type": "markdown",
      "metadata": {
        "id": "CXYQPryxuz_Q"
      },
      "source": [
        ">### Today\n",
        ">\n",
        ">- [A Standard*-ish* NLP Pipeline](#A-Standard-ish-NLP-Pipeline)\n",
        ">\n",
        ">\n",
        ">- [Sentence Segmentation](#Sentence-Segmentation)\n",
        ">\n",
        ">\n",
        ">- [Tokenization](#Tokenization)\n",
        ">\n",
        ">\n",
        ">- [Stemming and Lemmatization](#Stemming-and-Lemmatization)\n",
        ">\n",
        ">\n",
        ">- [PoS Tagging](#PoS-Tagging)"
      ]
    },
    {
      "cell_type": "markdown",
      "metadata": {
        "id": "tgCENxzHuz_Q"
      },
      "source": [
        "---"
      ]
    },
    {
      "cell_type": "markdown",
      "metadata": {
        "collapsed": true,
        "id": "TsXAcNUtuz_R"
      },
      "source": [
        "## A Standard*-ish* NLP Pipeline\n",
        "\n",
        "![alt text](https://github.com/vpretorius/AUC_TMCI_2022/blob/main/notebooks/images/pipeline.png?raw=1)"
      ]
    },
    {
      "cell_type": "markdown",
      "metadata": {
        "id": "_bWyFacPuz_R"
      },
      "source": [
        "---"
      ]
    },
    {
      "cell_type": "markdown",
      "metadata": {
        "collapsed": true,
        "id": "bCxjGEFluz_R"
      },
      "source": [
        "### What we hope to get as the final result..."
      ]
    },
    {
      "cell_type": "markdown",
      "metadata": {
        "collapsed": true,
        "id": "R6QEsj4puz_R"
      },
      "source": [
        "Go on the Stanford CoreNLP [online demo](http://corenlp.run/) and parse the following sentence:\n",
        "\n",
        "> I think there is a world market for maybe five computers.\n",
        "\n",
        "(allegedly said by Thomas J. Watson, CEO of IBM, in 1943)\n",
        "\n",
        "This might be useful: [list of Penn Treebank POS tags.](https://www.ling.upenn.edu/courses/Fall_2003/ling001/penn_treebank_pos.html)"
      ]
    },
    {
      "cell_type": "markdown",
      "metadata": {
        "id": "DhJftrTJuz_R"
      },
      "source": [
        "---"
      ]
    },
    {
      "cell_type": "markdown",
      "metadata": {
        "id": "ek1AK5K9uz_S"
      },
      "source": [
        "### A Few Recommendations"
      ]
    },
    {
      "cell_type": "markdown",
      "metadata": {
        "id": "mbTxU6Ktuz_S"
      },
      "source": [
        "#### [NLTK](http://www.nltk.org/) (Python)\n",
        "\n",
        "\n",
        "- has a variety of ready/easy-to-use implementations in several languages (some tools available for Dutch as well)\n",
        "\n",
        "\n",
        "- has a variety of APIs for other packages (e.g. Stanford CoreNLP)\n",
        "\n",
        "\n",
        "- lacks Information Extraction features (e.g. coreference resolution, relation extraction)\n",
        "\n",
        "\n",
        "- several implementations are not state-of-the-art and/or are rather slow"
      ]
    },
    {
      "cell_type": "markdown",
      "metadata": {
        "id": "Im8Y36OEuz_S"
      },
      "source": [
        "#### [Stanford CoreNLP](https://stanfordnlp.github.io/CoreNLP/) (Java)\n",
        "\n",
        "\n",
        "- includes virtually any NLP tool\n",
        "\n",
        "\n",
        "- basic distribution for English, but models for the following languages are available: Arabic, Chinese, French, German, and Spanish\n",
        "\n",
        "\n",
        "- implementations are often State-of-the-Art (though some component may not be the most efficient)\n",
        "\n",
        "\n",
        "- has Python wrappers\n",
        "\n",
        "\n",
        "- needs a bit more technical skills than using NLTK"
      ]
    },
    {
      "cell_type": "markdown",
      "metadata": {
        "id": "GWd47gxNuz_T"
      },
      "source": [
        "#### [spaCy](https://spacy.io) (Python)\n",
        "\n",
        "\n",
        "- industry-ready: scale, performance, getting things done, lacks some flexibility\n",
        "\n",
        "\n",
        "- many models for many languages: English German French Spanish Portuguese Italian Dutch Greek\n",
        "\n",
        "\n",
        "- implementations are often State-of-the-Art\n",
        "\n",
        "\n",
        "- has Python wrappers and the very clean \"spaCy pipeline\" programming interface \n",
        "\n",
        "\n",
        "- comes with many machine learning pre-trained models"
      ]
    },
    {
      "cell_type": "markdown",
      "metadata": {
        "id": "fW4uPUZLuz_T"
      },
      "source": [
        "#### [pattern](https://www.clips.uantwerpen.be/pages/pattern-nl) (NL-EN/Python)\n",
        "\n",
        "\n",
        "- toolbox for Dutch\n",
        "\n",
        "\n",
        "- easy to use\n",
        "\n",
        "\n",
        "- contains modules for PoS tagging, sentiment analysis and a WordNet interface\n",
        "\n",
        "\n",
        "- many interesting datasets available\n",
        "\n",
        "\n",
        "- available for [English](https://www.clips.uantwerpen.be/pages/pattern-en) as well"
      ]
    },
    {
      "cell_type": "markdown",
      "metadata": {
        "id": "OXzlIrbpuz_T"
      },
      "source": [
        "When to use what? Chose by yourself: https://spacy.io/usage/facts-figures"
      ]
    },
    {
      "cell_type": "markdown",
      "metadata": {
        "collapsed": true,
        "id": "454ynW9juz_T"
      },
      "source": [
        "---"
      ]
    },
    {
      "cell_type": "markdown",
      "metadata": {
        "id": "lc-A5Z7fuz_U"
      },
      "source": [
        "### Task-dependent choces"
      ]
    },
    {
      "cell_type": "markdown",
      "metadata": {
        "id": "GfwKh_Luuz_U"
      },
      "source": [
        "#### A note on terminology:\n",
        "\n",
        "* **Type** = abstract ideal form of a sequence of characters (not necessarily a word in a language!)\n",
        "* **Token** = instantiation of a type in our corpus or document\n",
        "\n",
        "For example: *to be or not to be.*\n",
        "\n",
        "* 6 tokens (to, be, or, not, to, be)\n",
        "* 4 types (to, be, or, not)\n",
        "\n",
        "The types coincide with the vocabulary.\n",
        "\n",
        "**Note that not all types might be proper words nor have a related lemma in an external lexicon.** "
      ]
    },
    {
      "cell_type": "markdown",
      "metadata": {
        "id": "t6YFCJ52uz_V"
      },
      "source": [
        "#### Cleaning\n",
        "\n",
        "- remove lists, tables, figure captions, page headers, etc.\n",
        "\n",
        "\n",
        "\n",
        "- text from XML/HTML: remove unwanted code (e.g. head elements, boilerplates, comments, javascript code).\n",
        "\n",
        "\n",
        "\n",
        "- text from PDF: remove noisy characters\n",
        "\n",
        "\n",
        "- OCR errors are systematic: e.g. an \"`m`\" recognized as a \"`rn`\", an \"`e`\" as a \"`c`\", an \"`l`\" as a \"`1`\", an \"`f`\" recognized as a \"`s`\".\n"
      ]
    },
    {
      "cell_type": "markdown",
      "metadata": {
        "id": "vfHFIs4Cuz_V"
      },
      "source": [
        "#### Normalization and filtering\n",
        "\n",
        "Reducing the valid vocabulary space or even the text itself by filtering or standardizing. Standardizing might be considered as the task of creating equivalence classes of types. These decisions are application-dependent, might come from trial and error but should motivated in principle.\n",
        "\n",
        "- lowercasing and abbreviations. If you want \"`Train`\" and \"`train`\" to be counted as token of the same type, you should \"`lower()`\" the text, however case-folding may remove disciminative information, e.g., \"`U.S.`\" \"`US`\" vs. \"`us`\".\n",
        "\n",
        "\n",
        "- Hyphenation, accents, ... (\"`text-minig`\", \"`textmining`\", \"`text mining`\"; \"`cliche`\", \"`cliché`\")\n",
        "\n",
        "\n",
        "- Punctuation, digits, misspells, ...\n",
        "\n",
        "\n",
        "- Very frequent or very rare words.\n",
        "\n",
        "\n",
        "- Stopwords (usually, these are very frequent words!).\n",
        "\n",
        "\n",
        "- Specialized portions of the text (e.g., footnotes).\n",
        "\n",
        "\n",
        "- Normalization can also be done via relations, e.g. considering \"`car`\" and \"`automobile`\" as synonyms. We can use WordNet for that. "
      ]
    },
    {
      "cell_type": "code",
      "execution_count": 7,
      "metadata": {
        "id": "ryefVzhVuz_b",
        "outputId": "c23217f5-79b1-4d0c-8085-b74133d4dc19",
        "colab": {
          "base_uri": "https://localhost:8080/",
          "height": 157
        }
      },
      "outputs": [
        {
          "output_type": "stream",
          "name": "stdout",
          "text": [
            "[nltk_data] Downloading package stopwords to /root/nltk_data...\n",
            "[nltk_data]   Unzipping corpora/stopwords.zip.\n"
          ]
        },
        {
          "output_type": "execute_result",
          "data": {
            "application/vnd.google.colaboratory.intrinsic+json": {
              "type": "string"
            },
            "text/plain": [
              "'étés, j, y, avez, étées, aurions, à, par, au, n, ton, seriez, tes, de, serions, nous, fut, en, elle, avais, aux, seraient, ayante, mon, aie, avec, ses, le, pas, soyons, avait, ait, était, je, eurent, eues, étantes, mais, sois, eusses, fussions, se, furent, soient, eux, son, vous, avons, été, te, même, que, auraient, vos, auront, d, fussiez, ce, m, serez, des, eut, êtes, du, une, fus, c, t, ayants, s, auras, eûmes, ont, eusse, mes, fûtes, eûtes, nos, fûmes, on, eussent, es, aient, avions, eus, aurait, auriez, ils, avaient, serons, seront, eût, aurais, sur, étante, fût, et, ne, ayez, sommes, ayant, suis, dans, as, ou, me, étant, leur, les, aurons, l, ai, soyez, pour, notre, fusse, eu, qu, votre, serait, sa, tu, ayons, fussent, il, fusses, étions, étaient, toi, eue, aurez, un, ta, soit, aviez, est, sera, aura, la, aies, moi, sont, eussions, lui, étée, seras, aurai, qui, ma, étais, serais, serai, étants, ayantes, ces, étiez, eussiez'"
            ]
          },
          "metadata": {},
          "execution_count": 7
        }
      ],
      "source": [
        "import nltk\n",
        "nltk.download('stopwords')\n",
        "from nltk.corpus import stopwords\n",
        "\", \".join(set(stopwords.words('french')))"
      ]
    },
    {
      "cell_type": "markdown",
      "metadata": {
        "id": "FucNA46kuz_d"
      },
      "source": [
        "---"
      ]
    },
    {
      "cell_type": "markdown",
      "metadata": {
        "id": "BUtVG4ZAuz_d"
      },
      "source": [
        "## Sentence Segmentation\n",
        "\n",
        "In its base form, a text is a stream of characters. \n"
      ]
    },
    {
      "cell_type": "code",
      "execution_count": 8,
      "metadata": {
        "id": "vhkRy2aAuz_d"
      },
      "outputs": [],
      "source": [
        "import nltk"
      ]
    },
    {
      "cell_type": "markdown",
      "metadata": {
        "id": "sjyt9totuz_e"
      },
      "source": [
        "You might need to install NLTK packages and corpora, a good idea is to install all the *Popular* ones."
      ]
    },
    {
      "cell_type": "code",
      "execution_count": 10,
      "metadata": {
        "id": "zRPjeaPNuz_f",
        "outputId": "76528d7f-2aa3-4399-f6a5-6d1396cdca8a",
        "colab": {
          "base_uri": "https://localhost:8080/"
        }
      },
      "outputs": [
        {
          "name": "stdout",
          "output_type": "stream",
          "text": [
            "NLTK Downloader\n",
            "---------------------------------------------------------------------------\n",
            "    d) Download   l) List    u) Update   c) Config   h) Help   q) Quit\n",
            "---------------------------------------------------------------------------\n",
            "Downloader> d\n",
            "\n",
            "Download which package (l=list; x=cancel)?\n",
            "  Identifier> l\n",
            "Packages:\n",
            "  [ ] abc................. Australian Broadcasting Commission 2006\n",
            "  [ ] alpino.............. Alpino Dutch Treebank\n",
            "  [ ] averaged_perceptron_tagger Averaged Perceptron Tagger\n",
            "  [ ] averaged_perceptron_tagger_ru Averaged Perceptron Tagger (Russian)\n",
            "  [ ] basque_grammars..... Grammars for Basque\n",
            "  [ ] biocreative_ppi..... BioCreAtIvE (Critical Assessment of Information\n",
            "                           Extraction Systems in Biology)\n",
            "  [ ] bllip_wsj_no_aux.... BLLIP Parser: WSJ Model\n",
            "  [ ] book_grammars....... Grammars from NLTK Book\n",
            "  [ ] brown............... Brown Corpus\n",
            "  [ ] brown_tei........... Brown Corpus (TEI XML Version)\n",
            "  [ ] cess_cat............ CESS-CAT Treebank\n",
            "  [ ] cess_esp............ CESS-ESP Treebank\n",
            "  [ ] chat80.............. Chat-80 Data Files\n",
            "  [ ] city_database....... City Database\n",
            "  [ ] cmudict............. The Carnegie Mellon Pronouncing Dictionary (0.6)\n",
            "  [ ] comparative_sentences Comparative Sentence Dataset\n",
            "  [ ] comtrans............ ComTrans Corpus Sample\n",
            "  [ ] conll2000........... CONLL 2000 Chunking Corpus\n",
            "  [ ] conll2002........... CONLL 2002 Named Entity Recognition Corpus\n",
            "Hit Enter to continue: \n",
            "  [ ] conll2007........... Dependency Treebanks from CoNLL 2007 (Catalan\n",
            "                           and Basque Subset)\n",
            "  [ ] crubadan............ Crubadan Corpus\n",
            "  [ ] dependency_treebank. Dependency Parsed Treebank\n",
            "  [ ] dolch............... Dolch Word List\n",
            "  [ ] europarl_raw........ Sample European Parliament Proceedings Parallel\n",
            "                           Corpus\n",
            "  [ ] extended_omw........ Extended Open Multilingual WordNet\n",
            "  [ ] floresta............ Portuguese Treebank\n",
            "  [ ] framenet_v15........ FrameNet 1.5\n",
            "  [ ] framenet_v17........ FrameNet 1.7\n",
            "  [ ] gazetteers.......... Gazeteer Lists\n",
            "  [ ] genesis............. Genesis Corpus\n",
            "  [ ] gutenberg........... Project Gutenberg Selections\n",
            "  [ ] ieer................ NIST IE-ER DATA SAMPLE\n",
            "  [ ] inaugural........... C-Span Inaugural Address Corpus\n",
            "  [ ] indian.............. Indian Language POS-Tagged Corpus\n",
            "  [ ] jeita............... JEITA Public Morphologically Tagged Corpus (in\n",
            "                           ChaSen format)\n",
            "  [ ] kimmo............... PC-KIMMO Data Files\n",
            "  [ ] knbc................ KNB Corpus (Annotated blog corpus)\n",
            "Hit Enter to continue: \n",
            "  [ ] large_grammars...... Large context-free and feature-based grammars\n",
            "                           for parser comparison\n",
            "  [ ] lin_thesaurus....... Lin's Dependency Thesaurus\n",
            "  [ ] mac_morpho.......... MAC-MORPHO: Brazilian Portuguese news text with\n",
            "                           part-of-speech tags\n",
            "  [ ] machado............. Machado de Assis -- Obra Completa\n",
            "  [ ] masc_tagged......... MASC Tagged Corpus\n",
            "  [ ] maxent_ne_chunker... ACE Named Entity Chunker (Maximum entropy)\n",
            "  [ ] maxent_treebank_pos_tagger Treebank Part of Speech Tagger (Maximum entropy)\n",
            "  [ ] moses_sample........ Moses Sample Models\n",
            "  [ ] movie_reviews....... Sentiment Polarity Dataset Version 2.0\n",
            "  [ ] mte_teip5........... MULTEXT-East 1984 annotated corpus 4.0\n",
            "  [ ] mwa_ppdb............ The monolingual word aligner (Sultan et al.\n",
            "                           2015) subset of the Paraphrase Database.\n",
            "  [ ] names............... Names Corpus, Version 1.3 (1994-03-29)\n",
            "  [ ] nombank.1.0......... NomBank Corpus 1.0\n",
            "  [ ] nonbreaking_prefixes Non-Breaking Prefixes (Moses Decoder)\n",
            "  [ ] nps_chat............ NPS Chat\n",
            "  [ ] omw-1.4............. Open Multilingual Wordnet\n",
            "  [ ] omw................. Open Multilingual Wordnet\n",
            "  [ ] opinion_lexicon..... Opinion Lexicon\n",
            "Hit Enter to continue: \n",
            "  [ ] panlex_swadesh...... PanLex Swadesh Corpora\n",
            "  [ ] paradigms........... Paradigm Corpus\n",
            "  [ ] pe08................ Cross-Framework and Cross-Domain Parser\n",
            "                           Evaluation Shared Task\n",
            "  [ ] perluniprops........ perluniprops: Index of Unicode Version 7.0.0\n",
            "                           character properties in Perl\n",
            "  [ ] pil................. The Patient Information Leaflet (PIL) Corpus\n",
            "  [ ] pl196x.............. Polish language of the XX century sixties\n",
            "  [ ] porter_test......... Porter Stemmer Test Files\n",
            "  [ ] ppattach............ Prepositional Phrase Attachment Corpus\n",
            "  [ ] problem_reports..... Problem Report Corpus\n",
            "  [ ] product_reviews_1... Product Reviews (5 Products)\n",
            "  [ ] product_reviews_2... Product Reviews (9 Products)\n",
            "  [ ] propbank............ Proposition Bank Corpus 1.0\n",
            "  [ ] pros_cons........... Pros and Cons\n",
            "  [ ] ptb................. Penn Treebank\n",
            "  [ ] punkt............... Punkt Tokenizer Models\n",
            "  [ ] qc.................. Experimental Data for Question Classification\n",
            "  [ ] reuters............. The Reuters-21578 benchmark corpus, ApteMod\n",
            "                           version\n",
            "  [ ] rslp................ RSLP Stemmer (Removedor de Sufixos da Lingua\n",
            "                           Portuguesa)\n",
            "Hit Enter to continue: \n",
            "  [ ] rte................. PASCAL RTE Challenges 1, 2, and 3\n",
            "  [ ] sample_grammars..... Sample Grammars\n",
            "  [ ] semcor.............. SemCor 3.0\n",
            "  [ ] senseval............ SENSEVAL 2 Corpus: Sense Tagged Text\n",
            "  [ ] sentence_polarity... Sentence Polarity Dataset v1.0\n",
            "  [ ] sentiwordnet........ SentiWordNet\n",
            "  [ ] shakespeare......... Shakespeare XML Corpus Sample\n",
            "  [ ] sinica_treebank..... Sinica Treebank Corpus Sample\n",
            "  [ ] smultron............ SMULTRON Corpus Sample\n",
            "  [ ] snowball_data....... Snowball Data\n",
            "  [ ] spanish_grammars.... Grammars for Spanish\n",
            "  [ ] state_union......... C-Span State of the Union Address Corpus\n",
            "  [ ] subjectivity........ Subjectivity Dataset v1.0\n",
            "  [ ] swadesh............. Swadesh Wordlists\n",
            "  [ ] switchboard......... Switchboard Corpus Sample\n",
            "  [ ] tagsets............. Help on Tagsets\n",
            "  [ ] timit............... TIMIT Corpus Sample\n",
            "  [ ] toolbox............. Toolbox Sample Files\n",
            "  [ ] treebank............ Penn Treebank Sample\n",
            "  [ ] twitter_samples..... Twitter Samples\n",
            "  [ ] udhr2............... Universal Declaration of Human Rights Corpus\n",
            "                           (Unicode Version)\n",
            "Hit Enter to continue: \n",
            "  [ ] udhr................ Universal Declaration of Human Rights Corpus\n",
            "  [ ] unicode_samples..... Unicode Samples\n",
            "  [ ] universal_tagset.... Mappings to the Universal Part-of-Speech Tagset\n",
            "  [ ] universal_treebanks_v20 Universal Treebanks Version 2.0\n",
            "  [ ] vader_lexicon....... VADER Sentiment Lexicon\n",
            "  [ ] verbnet3............ VerbNet Lexicon, Version 3.3\n",
            "  [ ] verbnet............. VerbNet Lexicon, Version 2.1\n",
            "  [ ] webtext............. Web Text Corpus\n",
            "  [ ] wmt15_eval.......... Evaluation data from WMT15\n",
            "  [ ] word2vec_sample..... Word2Vec Sample\n",
            "  [ ] wordnet2021......... Open English Wordnet 2021\n",
            "  [ ] wordnet31........... Wordnet 3.1\n",
            "  [ ] wordnet............. WordNet\n",
            "  [ ] wordnet_ic.......... WordNet-InfoContent\n",
            "  [ ] words............... Word Lists\n",
            "  [ ] ycoe................ York-Toronto-Helsinki Parsed Corpus of Old\n",
            "                           English Prose\n",
            "\n",
            "Collections:\n",
            "  [P] all-corpora......... All the corpora\n",
            "  [P] all-nltk............ All packages available on nltk_data gh-pages\n",
            "                           branch\n",
            "Hit Enter to continue: \n",
            "  [P] all................. All packages\n",
            "  [P] book................ Everything used in the NLTK Book\n",
            "  [P] popular............. Popular packages\n",
            "  [ ] tests............... Packages for running tests\n",
            "  [ ] third-party......... Third-party data packages\n",
            "\n",
            "([*] marks installed packages; [P] marks partially installed collections)\n",
            "\n",
            "Download which package (l=list; x=cancel)?\n",
            "  Identifier> all\n",
            "    Downloading collection 'all'\n",
            "       | \n",
            "       | Downloading package abc to /root/nltk_data...\n",
            "       |   Unzipping corpora/abc.zip.\n",
            "       | Downloading package alpino to /root/nltk_data...\n",
            "       |   Unzipping corpora/alpino.zip.\n",
            "       | Downloading package averaged_perceptron_tagger to\n",
            "       |     /root/nltk_data...\n",
            "       |   Unzipping taggers/averaged_perceptron_tagger.zip.\n",
            "       | Downloading package averaged_perceptron_tagger_ru to\n",
            "       |     /root/nltk_data...\n",
            "       |   Unzipping taggers/averaged_perceptron_tagger_ru.zip.\n",
            "       | Downloading package basque_grammars to /root/nltk_data...\n",
            "       |   Unzipping grammars/basque_grammars.zip.\n",
            "       | Downloading package biocreative_ppi to /root/nltk_data...\n",
            "       |   Unzipping corpora/biocreative_ppi.zip.\n",
            "       | Downloading package bllip_wsj_no_aux to /root/nltk_data...\n",
            "       |   Unzipping models/bllip_wsj_no_aux.zip.\n",
            "       | Downloading package book_grammars to /root/nltk_data...\n",
            "       |   Unzipping grammars/book_grammars.zip.\n",
            "       | Downloading package brown to /root/nltk_data...\n",
            "       |   Unzipping corpora/brown.zip.\n",
            "       | Downloading package brown_tei to /root/nltk_data...\n",
            "       |   Unzipping corpora/brown_tei.zip.\n",
            "       | Downloading package cess_cat to /root/nltk_data...\n",
            "       |   Unzipping corpora/cess_cat.zip.\n",
            "       | Downloading package cess_esp to /root/nltk_data...\n",
            "       |   Unzipping corpora/cess_esp.zip.\n",
            "       | Downloading package chat80 to /root/nltk_data...\n",
            "       |   Unzipping corpora/chat80.zip.\n",
            "       | Downloading package city_database to /root/nltk_data...\n",
            "       |   Unzipping corpora/city_database.zip.\n",
            "       | Downloading package cmudict to /root/nltk_data...\n",
            "       |   Unzipping corpora/cmudict.zip.\n",
            "       | Downloading package comparative_sentences to\n",
            "       |     /root/nltk_data...\n",
            "       |   Unzipping corpora/comparative_sentences.zip.\n",
            "       | Downloading package comtrans to /root/nltk_data...\n",
            "       | Downloading package conll2000 to /root/nltk_data...\n",
            "       |   Unzipping corpora/conll2000.zip.\n",
            "       | Downloading package conll2002 to /root/nltk_data...\n",
            "       |   Unzipping corpora/conll2002.zip.\n",
            "       | Downloading package conll2007 to /root/nltk_data...\n",
            "       | Downloading package crubadan to /root/nltk_data...\n",
            "       |   Unzipping corpora/crubadan.zip.\n",
            "       | Downloading package dependency_treebank to /root/nltk_data...\n",
            "       |   Unzipping corpora/dependency_treebank.zip.\n",
            "       | Downloading package dolch to /root/nltk_data...\n",
            "       |   Unzipping corpora/dolch.zip.\n",
            "       | Downloading package europarl_raw to /root/nltk_data...\n",
            "       |   Unzipping corpora/europarl_raw.zip.\n",
            "       | Downloading package extended_omw to /root/nltk_data...\n",
            "       |   Unzipping corpora/extended_omw.zip.\n",
            "       | Downloading package floresta to /root/nltk_data...\n",
            "       |   Unzipping corpora/floresta.zip.\n",
            "       | Downloading package framenet_v15 to /root/nltk_data...\n",
            "       |   Unzipping corpora/framenet_v15.zip.\n",
            "       | Downloading package framenet_v17 to /root/nltk_data...\n",
            "       |   Unzipping corpora/framenet_v17.zip.\n",
            "       | Downloading package gazetteers to /root/nltk_data...\n",
            "       |   Unzipping corpora/gazetteers.zip.\n",
            "       | Downloading package genesis to /root/nltk_data...\n",
            "       |   Unzipping corpora/genesis.zip.\n",
            "       | Downloading package gutenberg to /root/nltk_data...\n",
            "       |   Unzipping corpora/gutenberg.zip.\n",
            "       | Downloading package ieer to /root/nltk_data...\n",
            "       |   Unzipping corpora/ieer.zip.\n",
            "       | Downloading package inaugural to /root/nltk_data...\n",
            "       |   Unzipping corpora/inaugural.zip.\n",
            "       | Downloading package indian to /root/nltk_data...\n",
            "       |   Unzipping corpora/indian.zip.\n",
            "       | Downloading package jeita to /root/nltk_data...\n",
            "       | Downloading package kimmo to /root/nltk_data...\n",
            "       |   Unzipping corpora/kimmo.zip.\n",
            "       | Downloading package knbc to /root/nltk_data...\n",
            "       | Downloading package large_grammars to /root/nltk_data...\n",
            "       |   Unzipping grammars/large_grammars.zip.\n",
            "       | Downloading package lin_thesaurus to /root/nltk_data...\n",
            "       |   Unzipping corpora/lin_thesaurus.zip.\n",
            "       | Downloading package mac_morpho to /root/nltk_data...\n",
            "       |   Unzipping corpora/mac_morpho.zip.\n",
            "       | Downloading package machado to /root/nltk_data...\n",
            "       | Downloading package masc_tagged to /root/nltk_data...\n",
            "       | Downloading package maxent_ne_chunker to /root/nltk_data...\n",
            "       |   Unzipping chunkers/maxent_ne_chunker.zip.\n",
            "       | Downloading package maxent_treebank_pos_tagger to\n",
            "       |     /root/nltk_data...\n",
            "       |   Unzipping taggers/maxent_treebank_pos_tagger.zip.\n",
            "       | Downloading package moses_sample to /root/nltk_data...\n",
            "       |   Unzipping models/moses_sample.zip.\n",
            "       | Downloading package movie_reviews to /root/nltk_data...\n",
            "       |   Unzipping corpora/movie_reviews.zip.\n",
            "       | Downloading package mte_teip5 to /root/nltk_data...\n",
            "       |   Unzipping corpora/mte_teip5.zip.\n",
            "       | Downloading package mwa_ppdb to /root/nltk_data...\n",
            "       |   Unzipping misc/mwa_ppdb.zip.\n",
            "       | Downloading package names to /root/nltk_data...\n",
            "       |   Unzipping corpora/names.zip.\n",
            "       | Downloading package nombank.1.0 to /root/nltk_data...\n",
            "       | Downloading package nonbreaking_prefixes to\n",
            "       |     /root/nltk_data...\n",
            "       |   Unzipping corpora/nonbreaking_prefixes.zip.\n",
            "       | Downloading package nps_chat to /root/nltk_data...\n",
            "       |   Unzipping corpora/nps_chat.zip.\n",
            "       | Downloading package omw to /root/nltk_data...\n",
            "       |   Unzipping corpora/omw.zip.\n",
            "       | Downloading package omw-1.4 to /root/nltk_data...\n",
            "       |   Unzipping corpora/omw-1.4.zip.\n",
            "       | Downloading package opinion_lexicon to /root/nltk_data...\n",
            "       |   Unzipping corpora/opinion_lexicon.zip.\n",
            "       | Downloading package panlex_swadesh to /root/nltk_data...\n",
            "       | Downloading package paradigms to /root/nltk_data...\n",
            "       |   Unzipping corpora/paradigms.zip.\n",
            "       | Downloading package pe08 to /root/nltk_data...\n",
            "       |   Unzipping corpora/pe08.zip.\n",
            "       | Downloading package perluniprops to /root/nltk_data...\n",
            "       |   Unzipping misc/perluniprops.zip.\n",
            "       | Downloading package pil to /root/nltk_data...\n",
            "       |   Unzipping corpora/pil.zip.\n",
            "       | Downloading package pl196x to /root/nltk_data...\n",
            "       |   Unzipping corpora/pl196x.zip.\n",
            "       | Downloading package porter_test to /root/nltk_data...\n",
            "       |   Unzipping stemmers/porter_test.zip.\n",
            "       | Downloading package ppattach to /root/nltk_data...\n",
            "       |   Unzipping corpora/ppattach.zip.\n",
            "       | Downloading package problem_reports to /root/nltk_data...\n",
            "       |   Unzipping corpora/problem_reports.zip.\n",
            "       | Downloading package product_reviews_1 to /root/nltk_data...\n",
            "       |   Unzipping corpora/product_reviews_1.zip.\n",
            "       | Downloading package product_reviews_2 to /root/nltk_data...\n",
            "       |   Unzipping corpora/product_reviews_2.zip.\n",
            "       | Downloading package propbank to /root/nltk_data...\n",
            "       | Downloading package pros_cons to /root/nltk_data...\n",
            "       |   Unzipping corpora/pros_cons.zip.\n",
            "       | Downloading package ptb to /root/nltk_data...\n",
            "       |   Unzipping corpora/ptb.zip.\n",
            "       | Downloading package punkt to /root/nltk_data...\n",
            "       |   Unzipping tokenizers/punkt.zip.\n",
            "       | Downloading package qc to /root/nltk_data...\n",
            "       |   Unzipping corpora/qc.zip.\n",
            "       | Downloading package reuters to /root/nltk_data...\n",
            "       | Downloading package rslp to /root/nltk_data...\n",
            "       |   Unzipping stemmers/rslp.zip.\n",
            "       | Downloading package rte to /root/nltk_data...\n",
            "       |   Unzipping corpora/rte.zip.\n",
            "       | Downloading package sample_grammars to /root/nltk_data...\n",
            "       |   Unzipping grammars/sample_grammars.zip.\n",
            "       | Downloading package semcor to /root/nltk_data...\n",
            "       | Downloading package senseval to /root/nltk_data...\n",
            "       |   Unzipping corpora/senseval.zip.\n",
            "       | Downloading package sentence_polarity to /root/nltk_data...\n",
            "       |   Unzipping corpora/sentence_polarity.zip.\n",
            "       | Downloading package sentiwordnet to /root/nltk_data...\n",
            "       |   Unzipping corpora/sentiwordnet.zip.\n",
            "       | Downloading package shakespeare to /root/nltk_data...\n",
            "       |   Unzipping corpora/shakespeare.zip.\n",
            "       | Downloading package sinica_treebank to /root/nltk_data...\n",
            "       |   Unzipping corpora/sinica_treebank.zip.\n",
            "       | Downloading package smultron to /root/nltk_data...\n",
            "       |   Unzipping corpora/smultron.zip.\n",
            "       | Downloading package snowball_data to /root/nltk_data...\n",
            "       | Downloading package spanish_grammars to /root/nltk_data...\n",
            "       |   Unzipping grammars/spanish_grammars.zip.\n",
            "       | Downloading package state_union to /root/nltk_data...\n",
            "       |   Unzipping corpora/state_union.zip.\n",
            "       | Downloading package stopwords to /root/nltk_data...\n",
            "       |   Package stopwords is already up-to-date!\n",
            "       | Downloading package subjectivity to /root/nltk_data...\n",
            "       |   Unzipping corpora/subjectivity.zip.\n",
            "       | Downloading package swadesh to /root/nltk_data...\n",
            "       |   Unzipping corpora/swadesh.zip.\n",
            "       | Downloading package switchboard to /root/nltk_data...\n",
            "       |   Unzipping corpora/switchboard.zip.\n",
            "       | Downloading package tagsets to /root/nltk_data...\n",
            "       |   Unzipping help/tagsets.zip.\n",
            "       | Downloading package timit to /root/nltk_data...\n",
            "       |   Unzipping corpora/timit.zip.\n",
            "       | Downloading package toolbox to /root/nltk_data...\n",
            "       |   Unzipping corpora/toolbox.zip.\n",
            "       | Downloading package treebank to /root/nltk_data...\n",
            "       |   Unzipping corpora/treebank.zip.\n",
            "       | Downloading package twitter_samples to /root/nltk_data...\n",
            "       |   Unzipping corpora/twitter_samples.zip.\n",
            "       | Downloading package udhr to /root/nltk_data...\n",
            "       |   Unzipping corpora/udhr.zip.\n",
            "       | Downloading package udhr2 to /root/nltk_data...\n",
            "       |   Unzipping corpora/udhr2.zip.\n",
            "       | Downloading package unicode_samples to /root/nltk_data...\n",
            "       |   Unzipping corpora/unicode_samples.zip.\n",
            "       | Downloading package universal_tagset to /root/nltk_data...\n",
            "       |   Unzipping taggers/universal_tagset.zip.\n",
            "       | Downloading package universal_treebanks_v20 to\n",
            "       |     /root/nltk_data...\n",
            "       | Downloading package vader_lexicon to /root/nltk_data...\n",
            "       | Downloading package verbnet to /root/nltk_data...\n",
            "       |   Unzipping corpora/verbnet.zip.\n",
            "       | Downloading package verbnet3 to /root/nltk_data...\n",
            "       |   Unzipping corpora/verbnet3.zip.\n",
            "       | Downloading package webtext to /root/nltk_data...\n",
            "       |   Unzipping corpora/webtext.zip.\n",
            "       | Downloading package wmt15_eval to /root/nltk_data...\n",
            "       |   Unzipping models/wmt15_eval.zip.\n",
            "       | Downloading package word2vec_sample to /root/nltk_data...\n",
            "       |   Unzipping models/word2vec_sample.zip.\n",
            "       | Downloading package wordnet to /root/nltk_data...\n",
            "       |   Unzipping corpora/wordnet.zip.\n",
            "       | Downloading package wordnet2021 to /root/nltk_data...\n",
            "       |   Unzipping corpora/wordnet2021.zip.\n",
            "       | Downloading package wordnet31 to /root/nltk_data...\n",
            "       |   Unzipping corpora/wordnet31.zip.\n",
            "       | Downloading package wordnet_ic to /root/nltk_data...\n",
            "       |   Unzipping corpora/wordnet_ic.zip.\n",
            "       | Downloading package words to /root/nltk_data...\n",
            "       |   Unzipping corpora/words.zip.\n",
            "       | Downloading package ycoe to /root/nltk_data...\n",
            "       |   Unzipping corpora/ycoe.zip.\n",
            "       | \n",
            "     Done downloading collection all\n",
            "\n",
            "---------------------------------------------------------------------------\n",
            "    d) Download   l) List    u) Update   c) Config   h) Help   q) Quit\n",
            "---------------------------------------------------------------------------\n",
            "Downloader> q\n"
          ]
        },
        {
          "output_type": "execute_result",
          "data": {
            "text/plain": [
              "True"
            ]
          },
          "metadata": {},
          "execution_count": 10
        }
      ],
      "source": [
        "# this launches a pop-up window to install the NLTK packages and corpora you will need\n",
        "nltk.download()"
      ]
    },
    {
      "cell_type": "code",
      "execution_count": 11,
      "metadata": {
        "scrolled": true,
        "id": "Ut_LOVvNuz_f",
        "outputId": "486b316e-21b5-4938-8431-5105ea2017a3",
        "colab": {
          "base_uri": "https://localhost:8080/"
        }
      },
      "outputs": [
        {
          "output_type": "stream",
          "name": "stdout",
          "text": [
            "[The Man Who Was Thursday by G. K. Chesterton 1908]\n",
            "\n",
            "To Edmund Clerihew Bentley\n",
            "\n",
            "A cloud was on the mind of men, and wailing went the weather,\n",
            "Yea, a sick cloud upon the soul when we were boys together.\n",
            "Science announced nonentity and art admired decay;\n",
            "The world was old and ended: but you and I were gay;\n",
            "Round us in antic order their crippled vices came--\n",
            "Lust that had lost its laughter, fear that had lost its shame.\n",
            "Like the white lock of Whistler, that lit our aimless gloom,\n",
            "Men showed their own white feather as proudly as a plume.\n",
            "Life was a fly that faded, and death a drone that stung;\n",
            "The world was very old indeed when you and I were young.\n",
            "They twisted even decent sin to shapes not to be named:\n",
            "Men were ashamed of honour; but we were not ashamed.\n",
            "Weak if we were and foolish, not thus we failed, not thus;\n",
            "When that black Baal blocked the heavens he had no hymns from us\n",
            "Children we were--our forts of sand were even as weak as eve,\n",
            "High as they went we piled them up to break that bitter sea.\n"
          ]
        }
      ],
      "source": [
        "text = nltk.corpus.gutenberg.raw('chesterton-thursday.txt')\n",
        "print(text[:1010])"
      ]
    },
    {
      "cell_type": "code",
      "execution_count": 12,
      "metadata": {
        "id": "V_T0lNHDuz_f",
        "outputId": "666ee3bf-b8cc-4b51-b88c-14cd6b0e70da",
        "colab": {
          "base_uri": "https://localhost:8080/"
        }
      },
      "outputs": [
        {
          "output_type": "execute_result",
          "data": {
            "text/plain": [
              "['austen-emma.txt',\n",
              " 'austen-persuasion.txt',\n",
              " 'austen-sense.txt',\n",
              " 'bible-kjv.txt',\n",
              " 'blake-poems.txt',\n",
              " 'bryant-stories.txt',\n",
              " 'burgess-busterbrown.txt',\n",
              " 'carroll-alice.txt',\n",
              " 'chesterton-ball.txt',\n",
              " 'chesterton-brown.txt',\n",
              " 'chesterton-thursday.txt',\n",
              " 'edgeworth-parents.txt',\n",
              " 'melville-moby_dick.txt',\n",
              " 'milton-paradise.txt',\n",
              " 'shakespeare-caesar.txt',\n",
              " 'shakespeare-hamlet.txt',\n",
              " 'shakespeare-macbeth.txt',\n",
              " 'whitman-leaves.txt']"
            ]
          },
          "metadata": {},
          "execution_count": 12
        }
      ],
      "source": [
        "nltk.corpus.gutenberg.fileids()"
      ]
    },
    {
      "cell_type": "code",
      "execution_count": 13,
      "metadata": {
        "id": "z2sOZhe6uz_f",
        "outputId": "4a64d5b3-c6c6-45f7-8d8b-8f4111abfa61",
        "colab": {
          "base_uri": "https://localhost:8080/"
        }
      },
      "outputs": [
        {
          "output_type": "stream",
          "name": "stdout",
          "text": [
            "[nltk_data] Downloading package stopwords to /root/nltk_data...\n",
            "[nltk_data]   Package stopwords is already up-to-date!\n"
          ]
        },
        {
          "output_type": "execute_result",
          "data": {
            "text/plain": [
              "True"
            ]
          },
          "metadata": {},
          "execution_count": 13
        }
      ],
      "source": [
        "nltk.download('stopwords')"
      ]
    },
    {
      "cell_type": "markdown",
      "metadata": {
        "id": "Nt_icBFxuz_g"
      },
      "source": [
        "The first NLP processing step is **the identification of the sentence boundaries**:\n",
        "\n",
        "- some pipelines perform the sentence splitting phase before the tokenization (e.g., NLTK)\n",
        "\n",
        "\n",
        "- while other uses information about the tokens (e.g., CoreNLP) and/or about the parse tree (e.g., spaCy) to identify sentence boundaries"
      ]
    },
    {
      "cell_type": "code",
      "execution_count": 14,
      "metadata": {
        "id": "3U5cHkwbuz_g",
        "outputId": "5e080594-2a28-4fb7-8185-738997b43497",
        "colab": {
          "base_uri": "https://localhost:8080/"
        }
      },
      "outputs": [
        {
          "output_type": "stream",
          "name": "stdout",
          "text": [
            "[ The Man Who Was Thursday by G . K . Chesterton 1908 ]\n",
            "To Edmund Clerihew Bentley\n",
            "A cloud was on the mind of men , and wailing went the weather , Yea , a sick cloud upon the soul when we were boys together .\n",
            "Science announced nonentity and art admired decay ; The world was old and ended : but you and I were gay ; Round us in antic order their crippled vices came -- Lust that had lost its laughter , fear that had lost its shame .\n",
            "Like the white lock of Whistler , that lit our aimless gloom , Men showed their own white feather as proudly as a plume .\n",
            "Life was a fly that faded , and death a drone that stung ; The world was very old indeed when you and I were young .\n",
            "They twisted even decent sin to shapes not to be named : Men were ashamed of honour ; but we were not ashamed .\n",
            "Weak if we were and foolish , not thus we failed , not thus ; When that black Baal blocked the heavens he had no hymns from us Children we were -- our forts of sand were even as weak as eve , High as they went we piled them up to break that bitter sea .\n"
          ]
        }
      ],
      "source": [
        "# getting rid of newlines\n",
        "text = nltk.corpus.gutenberg.raw('chesterton-thursday.txt').replace(\"\\n\", \" \") \n",
        "\n",
        "# the NLTK corpus sents() returns the tokenized words as well \n",
        "for sentence in nltk.corpus.gutenberg.sents('chesterton-thursday.txt')[:8]:\n",
        "    print(\" \".join(sentence))"
      ]
    },
    {
      "cell_type": "markdown",
      "metadata": {
        "id": "85WziLnyuz_h"
      },
      "source": [
        " ... but **what is a sentence?**\n",
        " \n",
        " - something ending with \"`.`\", \"`!`\" or \"`?`\", maybe?"
      ]
    },
    {
      "cell_type": "code",
      "execution_count": 15,
      "metadata": {
        "id": "_JMiug-tuz_h",
        "outputId": "faebd556-41da-4cc7-f578-daf4b20807ed",
        "colab": {
          "base_uri": "https://localhost:8080/"
        }
      },
      "outputs": [
        {
          "output_type": "execute_result",
          "data": {
            "text/plain": [
              "['[The Man Who Was Thursday by G',\n",
              " ' K',\n",
              " ' Chesterton 1908]  To Edmund Clerihew Bentley  A cloud was on the mind of men, and wailing went the weather, Yea, a sick cloud upon the soul when we were boys togethe']"
            ]
          },
          "metadata": {},
          "execution_count": 15
        }
      ],
      "source": [
        "import re\n",
        "re.split(r\"[.?!]\", text[:200])"
      ]
    },
    {
      "cell_type": "code",
      "execution_count": 16,
      "metadata": {
        "id": "w9n9EU08uz_h",
        "outputId": "fe4817ff-08d6-4bb1-fb02-9555419301d5",
        "colab": {
          "base_uri": "https://localhost:8080/"
        }
      },
      "outputs": [
        {
          "output_type": "stream",
          "name": "stdout",
          "text": [
            "[The Man Who Was Thursday by G. K. Chesterton 1908]  To Edmund Clerihew Bentley  A cloud was on the mind of men, and wailing went the weather, Yea, a sick cloud upon the soul when we were boys togethe\n"
          ]
        }
      ],
      "source": [
        "print(text[:200])"
      ]
    },
    {
      "cell_type": "markdown",
      "metadata": {
        "id": "7-lCR-Ptuz_h"
      },
      "source": [
        "Not really, a period can be used also to denote:\n",
        "\n",
        "- an abbreviation (47% of the periods in the Wall Street Journal denote abbreviations)\n",
        "\n",
        "- decimal point\n",
        "\n",
        "- ellipsis\n",
        "\n",
        "- url or e-mail address..."
      ]
    },
    {
      "cell_type": "markdown",
      "metadata": {
        "collapsed": true,
        "id": "nEOM8rgpuz_i"
      },
      "source": [
        "Question marks and exclamation marks can be used in:\n",
        "\n",
        "- emoticons and slang\n",
        "\n",
        "- computer code \n",
        "\n",
        "- embedded quotations..."
      ]
    },
    {
      "cell_type": "markdown",
      "metadata": {
        "id": "rbZZBZBfuz_i"
      },
      "source": [
        "Even if heuristic solutions are conceivable (e.g. CoreNLP)...\n",
        "\n",
        "- e.g. *a period is not a sentence boundary if the preceding token is title-cased*"
      ]
    },
    {
      "cell_type": "markdown",
      "metadata": {
        "id": "i_aroNpRuz_i"
      },
      "source": [
        "...the best option is to treat the sentence boundary identification as a **binary classification problem** (e.g. NLTK), in which possible features can be:\n",
        "\n",
        "- case of the surrounding tokens\n",
        "\n",
        "\n",
        "- length of the surrounding tokens\n",
        "\n",
        "\n",
        "- lemma/type/form of the surrounding tokens"
      ]
    },
    {
      "cell_type": "code",
      "execution_count": 17,
      "metadata": {
        "id": "CaHce0vguz_i",
        "outputId": "3551a555-3657-4362-edf8-1c83d52016d4",
        "colab": {
          "base_uri": "https://localhost:8080/"
        }
      },
      "outputs": [
        {
          "output_type": "stream",
          "name": "stdout",
          "text": [
            "[The Man Who Was Thursday by G. K. Chesterton 1908]  To Edmund Clerihew Bentley  A cloud was on the mind of men, and wailing went the weather, Yea, a sick cloud upon the soul when we were boys together.\n",
            "\n",
            "Science announced nonentity and art admired decay; The world was old and ended: but you and I were gay; Round us in antic order their crippled vices came-- Lust that had lost its laughter, fear that had lost its shame.\n",
            "\n",
            "Like the white lock of Whistler, that lit our aimless gloom, Men showed their own white feather as proudly as a plume.\n",
            "\n",
            "Life was a fly that faded, and death a drone that stung; The world was very old indeed when you and I were young.\n",
            "\n",
            "They twisted even decent sin to shapes not to be named: Men were ashamed of honour; but we were not ashamed.\n",
            "\n",
            "Weak if we were and foolish, not thus we failed, not thus; When that black Baal blocked the heavens he had no hymns from us Children we were--our forts of sand were even as weak as eve, High as they went we piled them up to break that bitter sea.\n",
            "\n"
          ]
        }
      ],
      "source": [
        "for i in nltk.tokenize.sent_tokenize(text[:1010]):\n",
        "    print(i+\"\\n\")"
      ]
    },
    {
      "cell_type": "markdown",
      "metadata": {
        "collapsed": true,
        "id": "GHmkCEu0uz_n"
      },
      "source": [
        "The accuracy of these classifiers can be as high as over 99%"
      ]
    },
    {
      "cell_type": "markdown",
      "metadata": {
        "collapsed": true,
        "id": "GjBQ-yBLuz_o"
      },
      "source": [
        "NLTK come packed with classifiers trained on 17 languages, among which Dutch:\n",
        "\n",
        "- there are methods that allows you to train your own models as well. This can be useful if you want to process special texts like tweets or facebook messages..."
      ]
    },
    {
      "cell_type": "code",
      "execution_count": 18,
      "metadata": {
        "id": "IZJGVNZjuz_p"
      },
      "outputs": [],
      "source": [
        "a_dutch_email = \"\"\"Uw abonnement op uw OV-chipkaart activeren.\n",
        "Het is belangrijk dat u het abonnement op uw OV-chipkaart activeert.\n",
        "Dit kunt u doen bij de NS-kaartautomaat of bij één van de overige ophaalpunten voor de OV-chipkaart. Kijk voor een overzicht van de ophaalpunten op www.ov-chipkaart.nl/adresvinder.\n",
        "Hoe activeert u uw abonnement bij de NS-kaartautomaat?\n",
        "Houd uw OV-chipkaart voor de kaartlezer rechts onder het scherm.\n",
        "Kies 'Ophalen bestelling' en volg de aanwijzingen op het scherm.\n",
        "Voordat u aan uw reis begint dient er minimaal €10,- saldo op uw OV-chipkaart te staan.\n",
        "Vergeet niet in en uit te checken tijdens uw reis.\n",
        "Heeft u nog vragen?\n",
        "We helpen u graag verder. Kijk op www.ns.nl of stel uw vraag op het NS Serviceforum (www.ns.nl/forum). U kunt ook contact opnemen met NS Klantenservice via telefoonnummer 030 - 751 51 55 of via Twitter @NS_online. We staan dag en nacht voor u klaar.\n",
        "\"\"\""
      ]
    },
    {
      "cell_type": "code",
      "execution_count": 19,
      "metadata": {
        "id": "ppIm6oHpuz_q",
        "outputId": "0a58e08d-90ea-4b0c-e328-ec549b4ff859",
        "colab": {
          "base_uri": "https://localhost:8080/"
        }
      },
      "outputs": [
        {
          "output_type": "execute_result",
          "data": {
            "text/plain": [
              "['Uw abonnement op uw OV-chipkaart activeren.',\n",
              " 'Het is belangrijk dat u het abonnement op uw OV-chipkaart activeert.',\n",
              " 'Dit kunt u doen bij de NS-kaartautomaat of bij één van de overige ophaalpunten voor de OV-chipkaart.',\n",
              " 'Kijk voor een overzicht van de ophaalpunten op www.ov-chipkaart.nl/adresvinder.',\n",
              " 'Hoe activeert u uw abonnement bij de NS-kaartautomaat?',\n",
              " 'Houd uw OV-chipkaart voor de kaartlezer rechts onder het scherm.',\n",
              " \"Kies 'Ophalen bestelling' en volg de aanwijzingen op het scherm.\",\n",
              " 'Voordat u aan uw reis begint dient er minimaal €10,- saldo op uw OV-chipkaart te staan.',\n",
              " 'Vergeet niet in en uit te checken tijdens uw reis.',\n",
              " 'Heeft u nog vragen?',\n",
              " 'We helpen u graag verder.',\n",
              " 'Kijk op www.ns.nl of stel uw vraag op het NS Serviceforum (www.ns.nl/forum).',\n",
              " 'U kunt ook contact opnemen met NS Klantenservice via telefoonnummer 030 - 751 51 55 of via Twitter @NS_online.',\n",
              " 'We staan dag en nacht voor u klaar.']"
            ]
          },
          "metadata": {},
          "execution_count": 19
        }
      ],
      "source": [
        "nltk.tokenize.sent_tokenize(a_dutch_email, language='dutch')"
      ]
    },
    {
      "cell_type": "markdown",
      "metadata": {
        "id": "PY39RP2xuz_q"
      },
      "source": [
        "---"
      ]
    },
    {
      "cell_type": "markdown",
      "metadata": {
        "id": "irO7M_wxuz_q"
      },
      "source": [
        "## Tokenization\n",
        "\n",
        "Tokenization is the task of splitting a string of characters into chunks of characters.\n",
        "\n",
        "It is a task that is usually tackled with rule-based or regex-based algorithms."
      ]
    },
    {
      "cell_type": "code",
      "execution_count": 20,
      "metadata": {
        "id": "0gFT7w43uz_q",
        "outputId": "7a2a169b-5559-415a-fbbc-d2038a5453cc",
        "colab": {
          "base_uri": "https://localhost:8080/"
        }
      },
      "outputs": [
        {
          "output_type": "stream",
          "name": "stdout",
          "text": [
            "['[', 'The', 'Man', 'Who', 'Was', 'Thursday', 'by', 'G', '.', 'K', '.', 'Chesterton', '1908', ']', 'To', 'Edmund', 'Clerihew', 'Bentley', 'A', 'cloud', 'was', 'on', 'the', 'mind', 'of', 'men', ',', 'and', 'wailing', 'went', 'the', 'weather', ',', 'Yea', ',', 'a', 'sick', 'cloud', 'upon', 'the', 'soul', 'when', 'we', 'were', 'boys', 'together', '.', 'Science', 'announced', 'nonentity', 'and', 'art', 'admired', 'decay', ';', 'The', 'world', 'was', 'old', 'and', 'ended', ':', 'but', 'you', 'and', 'I', 'were', 'gay', ';', 'Round', 'us', 'in', 'antic', 'order', 'their', 'crippled', 'vices', 'came', '--', 'Lust', 'that', 'had', 'lost', 'its', 'laughter', ',', 'fear', 'that', 'had', 'lost', 'its', 'shame', '.', 'Like', 'the', 'white', 'lock', 'of', 'Whistler', ',', 'that', 'lit', 'our', 'aimless', 'gloom', ',', 'Men', 'showed', 'their', 'own', 'white', 'feather', 'as', 'proudly', 'as', 'a', 'plume', '.', 'Life', 'was', 'a', 'fly', 'that', 'faded', ',', 'and', 'death', 'a', 'drone', 'that', 'stung', ';', 'The', 'world', 'was', 'very', 'old', 'indeed', 'when', 'you', 'and', 'I', 'were', 'young', '.', 'They', 'twisted', 'even', 'decent', 'sin', 'to', 'shapes', 'not', 'to', 'be', 'named', ':', 'Men', 'were', 'ashamed', 'of', 'honour', ';', 'but', 'we', 'were', 'not', 'ashamed', '.', 'Weak', 'if', 'we', 'were', 'and', 'foolish', ',', 'not', 'thus', 'we', 'failed', ',', 'not', 'thus', ';', 'When', 'that', 'black', 'Baal', 'blocked', 'the', 'heavens', 'he', 'had', 'no', 'hymns', 'from', 'us', 'Children', 'we', 'were', '--', 'our', 'forts', 'of', 'sand', 'were', 'even', 'as', 'weak', 'as', 'eve', ',', 'High', 'as', 'they', 'went', 'we', 'piled', 'them', 'up', 'to', 'break', 'that', 'bitter', 'sea', '.']\n"
          ]
        }
      ],
      "source": [
        "# it can be performed BEFORE sentence splitting\n",
        "print(nltk.corpus.gutenberg.words('chesterton-thursday.txt')[:226])"
      ]
    },
    {
      "cell_type": "code",
      "execution_count": 21,
      "metadata": {
        "id": "-DLyp0IIuz_q",
        "outputId": "1f0244bc-757e-4dad-a900-fe2ff0946e9b",
        "colab": {
          "base_uri": "https://localhost:8080/"
        }
      },
      "outputs": [
        {
          "output_type": "stream",
          "name": "stdout",
          "text": [
            "['[', 'The', 'Man', 'Who', 'Was', 'Thursday', 'by', 'G', '.', 'K', '.', 'Chesterton', '1908', ']']\n",
            "['To', 'Edmund', 'Clerihew', 'Bentley']\n",
            "['A', 'cloud', 'was', 'on', 'the', 'mind', 'of', 'men', ',', 'and', 'wailing', 'went', 'the', 'weather', ',', 'Yea', ',', 'a', 'sick', 'cloud', 'upon', 'the', 'soul', 'when', 'we', 'were', 'boys', 'together', '.']\n",
            "['Science', 'announced', 'nonentity', 'and', 'art', 'admired', 'decay', ';', 'The', 'world', 'was', 'old', 'and', 'ended', ':', 'but', 'you', 'and', 'I', 'were', 'gay', ';', 'Round', 'us', 'in', 'antic', 'order', 'their', 'crippled', 'vices', 'came', '--', 'Lust', 'that', 'had', 'lost', 'its', 'laughter', ',', 'fear', 'that', 'had', 'lost', 'its', 'shame', '.']\n",
            "['Like', 'the', 'white', 'lock', 'of', 'Whistler', ',', 'that', 'lit', 'our', 'aimless', 'gloom', ',', 'Men', 'showed', 'their', 'own', 'white', 'feather', 'as', 'proudly', 'as', 'a', 'plume', '.']\n",
            "['Life', 'was', 'a', 'fly', 'that', 'faded', ',', 'and', 'death', 'a', 'drone', 'that', 'stung', ';', 'The', 'world', 'was', 'very', 'old', 'indeed', 'when', 'you', 'and', 'I', 'were', 'young', '.']\n",
            "['They', 'twisted', 'even', 'decent', 'sin', 'to', 'shapes', 'not', 'to', 'be', 'named', ':', 'Men', 'were', 'ashamed', 'of', 'honour', ';', 'but', 'we', 'were', 'not', 'ashamed', '.']\n",
            "['Weak', 'if', 'we', 'were', 'and', 'foolish', ',', 'not', 'thus', 'we', 'failed', ',', 'not', 'thus', ';', 'When', 'that', 'black', 'Baal', 'blocked', 'the', 'heavens', 'he', 'had', 'no', 'hymns', 'from', 'us', 'Children', 'we', 'were', '--', 'our', 'forts', 'of', 'sand', 'were', 'even', 'as', 'weak', 'as', 'eve', ',', 'High', 'as', 'they', 'went', 'we', 'piled', 'them', 'up', 'to', 'break', 'that', 'bitter', 'sea', '.']\n"
          ]
        }
      ],
      "source": [
        "# it can be performed AFTER sentence splitting\n",
        "for s in nltk.corpus.gutenberg.sents('chesterton-thursday.txt')[:8]:\n",
        "    print(s)"
      ]
    },
    {
      "cell_type": "markdown",
      "metadata": {
        "id": "2qNtWbyyuz_r"
      },
      "source": [
        "Some of the most recurrent issues with **Tokenization in English**:\n",
        "\n",
        "- contractions: *I'm*, *isn't*, *Gianluca's*\n",
        "\n",
        "\n",
        "- emoticons: *:)*, *;-)*\n",
        "\n",
        "\n",
        "- proper names: *J.K. Rowling*, *F.B.I.*, *O'Neill*\n",
        "\n",
        "\n",
        "- hyphenation can be used in many ways:\n",
        "\n",
        "    - single word: *e-mail*, *co-operation*\n",
        "    - how many words? *so-called*, *pro-gun*\n",
        "    - grouping of words for non-strictly-linguistic purposes: *take-it-or-leave*\n",
        "\n",
        "\n",
        "\n",
        "- multi word expressions and collocations:\n",
        "\n",
        "    - phrasal verbs: *give up*, *work out*, *move in*\n",
        "    - multi-token proper names: *New York*, *Las Vegas*\n",
        "    - compound nominals: *car park*, *attorney general*, *part of speech*\n",
        "    - ..."
      ]
    },
    {
      "cell_type": "markdown",
      "metadata": {
        "id": "aHS13Q3Luz_r"
      },
      "source": [
        "The complexity of this task is also **language-dependent**:\n",
        "\n",
        "- e.g. compounds in German: *Donaudampfschifffahrtselektrizitätenhauptbetriebswerkbauunterbeamtengesellschaft* (i.e. \"Association for subordinate officials of the head office management of the Danube steamboat electrical services\")\n",
        "\n",
        "\n",
        "- Chinese is written without spaces between words: 天花 (\"small pot\") vs. 天 (\"sky\") and 花 (\"flower\")."
      ]
    },
    {
      "cell_type": "markdown",
      "metadata": {
        "id": "SZc1vGNDuz_r"
      },
      "source": [
        "Simplest (but suboptimal) solution: **segment around space characters**"
      ]
    },
    {
      "cell_type": "code",
      "execution_count": 24,
      "metadata": {
        "id": "_dmhKyWruz_r",
        "outputId": "91bff6c0-e607-4f6e-9487-a7fa42240ab9",
        "colab": {
          "base_uri": "https://localhost:8080/"
        }
      },
      "outputs": [
        {
          "output_type": "stream",
          "name": "stdout",
          "text": [
            "['[The', 'Man', 'Who', 'Was', 'Thursday', 'by', 'G.', 'K.', 'Chesterton', '1908]', 'To', 'Edmund', 'Clerihew', 'Bentley', 'A', 'cloud', 'was', 'on', 'the', 'mind', 'of', 'men,', 'and', 'wailing', 'went', 'the', 'weather,', 'Yea,', 'a', 'sick', 'cloud', 'upon', 'the', 'soul', 'when', 'we', 'were', 'boys', 'together.', 'Science', 'announced', 'nonentity', 'and', 'art', 'admired', 'decay;', 'The', 'world', 'was', 'old', 'and', 'ended:', 'but', 'you', 'and', 'I', 'were', 'gay;', 'Round', 'us', 'in', 'antic', 'order', 'their', 'crippled', 'vices', 'came--', 'Lust', 'that', 'had', 'lost', 'its', 'laughter,', 'fear', 'that', 'had', 'lost', 'its', 'shame.', 'Like', 'the', 'white', 'lock', 'of', 'Whistler,', 'that', 'lit', 'our', 'aimless', 'gloom,', 'Men', 'showed', 'their', 'own', 'white', 'feather', 'as', 'proudly', 'as', 'a', 'plume.', 'Life', 'was', 'a', 'fly', 'that', 'faded,', 'and', 'death', 'a', 'drone', 'that', 'stung;', 'The', 'world', 'was', 'very', 'old', 'indeed', 'when', 'you', 'and', 'I', 'were', 'young.', 'They', 'twisted', 'even', 'decent', 'sin', 'to', 'shapes', 'not', 'to', 'be', 'named:', 'Men', 'were', 'ashamed', 'of', 'honour;', 'but', 'we', 'were', 'not', 'ashamed.', 'Weak', 'if', 'we', 'were', 'and', 'foolish,', 'not', 'thus', 'we', 'failed,', 'not', 'thus;', 'When', 'that', 'black', 'Baal', 'blocked', 'the', 'heavens', 'he', 'had', 'no', 'hymns', 'from', 'us', 'Children', 'we', 'were--our', 'forts', 'of', 'sand', 'were', 'even', 'as', 'weak', 'as', 'eve,', 'High', 'as', 'they', 'went', 'we', 'piled', 'them', 'up', 'to', 'break', 'that', 'b']\n"
          ]
        }
      ],
      "source": [
        "print(text[:1000].split())"
      ]
    },
    {
      "cell_type": "markdown",
      "metadata": {
        "id": "BYMbtLUHuz_r"
      },
      "source": [
        "There are many issues with this solution, among which the production of tokens such as `'plume.'`, `'thus;'` and `'were--our'`"
      ]
    },
    {
      "cell_type": "markdown",
      "metadata": {
        "id": "DmZIc94huz_r"
      },
      "source": [
        "NLTK's recommended word tokenizer is the Penn `nltk.tokenize.TreebankWordTokenizer().tokenize()`, that can be called in many ways, among which the easier is by using the `nltk.tokenize.word_tokenize()` wrapper:"
      ]
    },
    {
      "cell_type": "code",
      "execution_count": 25,
      "metadata": {
        "id": "BMmqisjJuz_r",
        "outputId": "3809896b-cbde-412f-8add-5169c520bec4",
        "colab": {
          "base_uri": "https://localhost:8080/"
        }
      },
      "outputs": [
        {
          "output_type": "stream",
          "name": "stdout",
          "text": [
            "['[', 'The', 'Man', 'Who', 'Was', 'Thursday', 'by', 'G.', 'K.', 'Chesterton', '1908', ']', 'To', 'Edmund', 'Clerihew', 'Bentley', 'A', 'cloud', 'was', 'on', 'the', 'mind', 'of', 'men', ',', 'and', 'wailing', 'went', 'the', 'weather', ',', 'Yea', ',', 'a', 'sick', 'cloud', 'upon', 'the', 'soul', 'when', 'we', 'were', 'boys', 'together', '.', 'Science', 'announced', 'nonentity', 'and', 'art', 'admired', 'decay', ';', 'The', 'world', 'was', 'old', 'and', 'ended', ':', 'but', 'you', 'and', 'I', 'were', 'gay', ';', 'Round', 'us', 'in', 'antic', 'order', 'their', 'crippled', 'vices', 'came', '--', 'Lust', 'that', 'had', 'lost', 'its', 'laughter', ',', 'fear', 'that', 'had', 'lost', 'its', 'shame', '.', 'Like', 'the', 'white', 'lock', 'of', 'Whistler', ',', 'that', 'lit', 'our', 'aimless', 'gloom', ',', 'Men', 'showed', 'their', 'own', 'white', 'feather', 'as', 'proudly', 'as', 'a', 'plume', '.', 'Life', 'was', 'a', 'fly', 'that', 'faded', ',', 'and', 'death', 'a', 'drone', 'that', 'stung', ';', 'The', 'world', 'was', 'very', 'old', 'indeed', 'when', 'you', 'and', 'I', 'were', 'young', '.', 'They', 'twisted', 'even', 'decent', 'sin', 'to', 'shapes', 'not', 'to', 'be', 'named', ':', 'Men', 'were', 'ashamed', 'of', 'honour', ';', 'but', 'we', 'were', 'not', 'ashamed', '.', 'Weak', 'if', 'we', 'were', 'and', 'foolish', ',', 'not', 'thus', 'we', 'failed', ',', 'not', 'thus', ';', 'When', 'that', 'black', 'Baal', 'blocked', 'the', 'heavens', 'he', 'had', 'no', 'hymns', 'from', 'us', 'Children', 'we', 'were', '--', 'our', 'forts', 'of', 'sand', 'were', 'even', 'as', 'weak', 'as', 'eve', ',', 'High', 'as', 'they', 'went', 'we', 'piled', 'them', 'up', 'to', 'break', 'that', 'b']\n"
          ]
        }
      ],
      "source": [
        "# this is the same as nltk.tokenize.TreebankWordTokenizer().tokenize(text[:1010])\n",
        "print(nltk.tokenize.word_tokenize(text[:1000]))"
      ]
    },
    {
      "cell_type": "markdown",
      "metadata": {
        "id": "OLz57XaNuz_s"
      },
      "source": [
        "NLTK offers alternative word tokenizer, that may be more appropriate according to the applications you are developing"
      ]
    },
    {
      "cell_type": "code",
      "execution_count": 26,
      "metadata": {
        "id": "dDXNbw5Guz_s",
        "outputId": "e18bf4a3-6c78-4431-baec-11b70ef20e1c",
        "colab": {
          "base_uri": "https://localhost:8080/"
        }
      },
      "outputs": [
        {
          "output_type": "stream",
          "name": "stdout",
          "text": [
            "['That', 'U.S.A.', 'poster-print', \"doesn't\", 'cost', '$12.40...']\n"
          ]
        }
      ],
      "source": [
        "nltk_text = 'That U.S.A. poster-print doesn\\'t cost $12.40...'\n",
        "print(nltk_text.split())"
      ]
    },
    {
      "cell_type": "code",
      "execution_count": 27,
      "metadata": {
        "id": "PLXA2YBSuz_s",
        "outputId": "8240da0d-b9c4-4c2c-a031-46f3e7128bfb",
        "colab": {
          "base_uri": "https://localhost:8080/"
        }
      },
      "outputs": [
        {
          "output_type": "stream",
          "name": "stdout",
          "text": [
            "['That', 'U.S.A.', 'poster-print', 'does', \"n't\", 'cost', '$', '12.40', '...']\n"
          ]
        }
      ],
      "source": [
        "nltk_text = 'That U.S.A. poster-print doesn\\'t cost $12.40...'\n",
        "print(nltk.tokenize.word_tokenize(nltk_text))"
      ]
    },
    {
      "cell_type": "code",
      "execution_count": 28,
      "metadata": {
        "id": "bUFYhzYEuz_s",
        "outputId": "8bbe8b12-961a-47b0-c310-90ed2fd54a80",
        "colab": {
          "base_uri": "https://localhost:8080/"
        }
      },
      "outputs": [
        {
          "output_type": "stream",
          "name": "stdout",
          "text": [
            "['That', 'U', '.', 'S', '.', 'A', '.', 'poster', '-', 'print', 'doesn', \"'\", 't', 'cost', '$', '12', '.', '40', '...']\n"
          ]
        }
      ],
      "source": [
        "# nltk.tokenize.wordpunct_tokenize splits all punctuations into separate tokens\n",
        "print(nltk.tokenize.wordpunct_tokenize(nltk_text))"
      ]
    },
    {
      "cell_type": "code",
      "execution_count": 29,
      "metadata": {
        "id": "tkLgwVk2uz_t",
        "outputId": "44ff0bc0-509b-4b8f-87b0-b7868e9d60d4",
        "colab": {
          "base_uri": "https://localhost:8080/"
        }
      },
      "outputs": [
        {
          "output_type": "execute_result",
          "data": {
            "text/plain": [
              "['That', 'U.S.A.', 'poster-print', 'doesn', \"'\", 't', 'cost', '$12.40', '...']"
            ]
          },
          "metadata": {},
          "execution_count": 29
        }
      ],
      "source": [
        "# nltk.regexp_tokenize() allows you to build a customized tokenizer by specifying a regex pattern\n",
        "pattern = r'''(?x)    # set flag to allow verbose regexps\n",
        "(?:[A-Z]\\.)+          # abbreviations, e.g. U.S.A.\n",
        "|\\w+(?:-\\w+)*         # words with optional internal hyphens\n",
        "|\\$?\\d+(?:\\.\\d+)?%?   # currency and percentages, e.g. $12.40, 82%\n",
        "|\\.\\.\\.               # ellipsis\n",
        "|[][.,;\"\\'?():-_`]    # these are separate tokens\n",
        "'''\n",
        "\n",
        "nltk.regexp_tokenize(nltk_text, pattern)"
      ]
    },
    {
      "cell_type": "markdown",
      "metadata": {
        "id": "4OT9n_jiuz_t"
      },
      "source": [
        "---"
      ]
    },
    {
      "cell_type": "markdown",
      "metadata": {
        "id": "7mN2WaPBuz_t"
      },
      "source": [
        "## Stemming and Lemmatization\n",
        "\n",
        "\n",
        "The goal of both stemming and lemmatization is to reduce inflectional forms (e.g. *dreaming*, *dreamed*) and sometimes derivationally related forms of a word to a common \"base form\" (e.g. *eat*).\n",
        "\n",
        "*Stemming targets the stem, or the part of a word which remains stable to inflectional manipulations. E.g., \"eats\" -> \"eat\".*\n",
        "\n",
        "*Lemmatization targets the lemma, or the canonical dictionary key associated with the word. E.g., \"is\" -> \"be\".*"
      ]
    },
    {
      "cell_type": "markdown",
      "metadata": {
        "id": "VQZCfqHkuz_t"
      },
      "source": [
        "### Stemming\n",
        "\n",
        "- Stemming in practice usually refers to a **crude heuristic** process that (usually) removes the inflectional **suffixes** of a word\n",
        "\n",
        "\n",
        "- The result of stemming **might not be an actual word**\n",
        "\n",
        "\n",
        "- Stemmers are very fast and do not require PoS information"
      ]
    },
    {
      "cell_type": "markdown",
      "metadata": {
        "id": "Jb2esoz7uz_t"
      },
      "source": [
        "NLTK offers several algorithms, among which the most used are: \n",
        "\n",
        "- the [Porter](https://tartarus.org/martin/PorterStemmer/) Stemmer: the oldest algorithm (1979), it is regex-based, it is still the most used even if more computationally intensive\n",
        "\n",
        "\n",
        "- the algorithm consists of 5 phases of word reductions, applied sequentially as a cascade.\n",
        "\n",
        "\n",
        "- Example of rules in phase 1:\n",
        "\n",
        "    * SSES -> SS (*caresses -> caress*)\n",
        "    * IES -> I (*ponies -> poni*)\n",
        "    * S ->  (*cats -> cat*)\n",
        "\n",
        "\n",
        "- Example of rules in phase 5 (measuring if a token could stand by itself):\n",
        "\n",
        "    * EMENT ->  (would reduce *replacement* to *replac*, but leave *cement* as cement because \"`c`\" alone is too short)"
      ]
    },
    {
      "cell_type": "code",
      "execution_count": 30,
      "metadata": {
        "id": "L7DASD7duz_u",
        "outputId": "4d69807f-99f3-4fd9-f8c9-998cb07cdba8",
        "colab": {
          "base_uri": "https://localhost:8080/",
          "height": 35
        }
      },
      "outputs": [
        {
          "output_type": "execute_result",
          "data": {
            "application/vnd.google.colaboratory.intrinsic+json": {
              "type": "string"
            },
            "text/plain": [
              "'unfriendli'"
            ]
          },
          "metadata": {},
          "execution_count": 30
        }
      ],
      "source": [
        "nltk.PorterStemmer().stem(\"unfriendliness\")"
      ]
    },
    {
      "cell_type": "code",
      "execution_count": 31,
      "metadata": {
        "id": "X_cqje99uz_u",
        "outputId": "4fe60783-9a92-45f0-dc5a-321391096bc9",
        "colab": {
          "base_uri": "https://localhost:8080/",
          "height": 35
        }
      },
      "outputs": [
        {
          "output_type": "execute_result",
          "data": {
            "application/vnd.google.colaboratory.intrinsic+json": {
              "type": "string"
            },
            "text/plain": [
              "'cement'"
            ]
          },
          "metadata": {},
          "execution_count": 31
        }
      ],
      "source": [
        "nltk.PorterStemmer().stem(\"cements\")"
      ]
    },
    {
      "cell_type": "code",
      "execution_count": 32,
      "metadata": {
        "id": "HIpO89o4uz_v",
        "outputId": "72cf81e5-1a94-44d2-dde2-c5e5dbd9303f",
        "colab": {
          "base_uri": "https://localhost:8080/",
          "height": 35
        }
      },
      "outputs": [
        {
          "output_type": "execute_result",
          "data": {
            "application/vnd.google.colaboratory.intrinsic+json": {
              "type": "string"
            },
            "text/plain": [
              "'replac'"
            ]
          },
          "metadata": {},
          "execution_count": 32
        }
      ],
      "source": [
        "nltk.PorterStemmer().stem(\"replace\")"
      ]
    },
    {
      "cell_type": "markdown",
      "metadata": {
        "id": "OK9ycKUJuz_w"
      },
      "source": [
        "- the [Lancaster](http://www.comp.lancs.ac.uk/computing/research/stemming/) Stemmers: the most aggressive"
      ]
    },
    {
      "cell_type": "code",
      "execution_count": 33,
      "metadata": {
        "id": "ey3D1_5Muz_x",
        "outputId": "bc83f05a-29b5-4880-d791-e078ca685e03",
        "colab": {
          "base_uri": "https://localhost:8080/",
          "height": 35
        }
      },
      "outputs": [
        {
          "output_type": "execute_result",
          "data": {
            "application/vnd.google.colaboratory.intrinsic+json": {
              "type": "string"
            },
            "text/plain": [
              "'unfriend'"
            ]
          },
          "metadata": {},
          "execution_count": 33
        }
      ],
      "source": [
        "# aggressive\n",
        "nltk.LancasterStemmer().stem(\"unfriendliness\")"
      ]
    },
    {
      "cell_type": "code",
      "execution_count": 34,
      "metadata": {
        "id": "m8BSaGyBuz_x",
        "outputId": "c4a9f4dc-ab3c-487c-d9e2-46b9bd03b2b6",
        "colab": {
          "base_uri": "https://localhost:8080/",
          "height": 35
        }
      },
      "outputs": [
        {
          "output_type": "execute_result",
          "data": {
            "application/vnd.google.colaboratory.intrinsic+json": {
              "type": "string"
            },
            "text/plain": [
              "'cem'"
            ]
          },
          "metadata": {},
          "execution_count": 34
        }
      ],
      "source": [
        "nltk.LancasterStemmer().stem(\"cements\")"
      ]
    },
    {
      "cell_type": "code",
      "execution_count": 35,
      "metadata": {
        "id": "Q0r774qwuz_x",
        "outputId": "df947f9c-ead2-44b8-f2e8-56b424746099",
        "colab": {
          "base_uri": "https://localhost:8080/"
        }
      },
      "outputs": [
        {
          "output_type": "stream",
          "name": "stdout",
          "text": [
            "happi\n",
            "happy\n",
            "happi\n"
          ]
        }
      ],
      "source": [
        "# sometimes works better than the Porter Stemmer\n",
        "print(nltk.PorterStemmer().stem(\"happiness\"))\n",
        "print(nltk.LancasterStemmer().stem(\"happiness\"))\n",
        "print(nltk.stem.snowball.SnowballStemmer(\"english\").stem(\"happiness\"))"
      ]
    },
    {
      "cell_type": "markdown",
      "metadata": {
        "id": "wc0BjkVLuz_y"
      },
      "source": [
        "- [Snowball](http://snowballstem.org/) is a language for creating stemmers, and is available in many languages among which Dutch:"
      ]
    },
    {
      "cell_type": "code",
      "execution_count": 36,
      "metadata": {
        "id": "vAPR4Vbyuz_y",
        "outputId": "f079082a-2ef6-4ad2-8a9c-9aa4f357301f",
        "colab": {
          "base_uri": "https://localhost:8080/"
        }
      },
      "outputs": [
        {
          "output_type": "stream",
          "name": "stdout",
          "text": [
            "('arabic', 'danish', 'dutch', 'english', 'finnish', 'french', 'german', 'hungarian', 'italian', 'norwegian', 'porter', 'portuguese', 'romanian', 'russian', 'spanish', 'swedish')\n"
          ]
        }
      ],
      "source": [
        "print(nltk.stem.snowball.SnowballStemmer.languages)"
      ]
    },
    {
      "cell_type": "markdown",
      "metadata": {
        "id": "4vTneOIeuz_y"
      },
      "source": [
        "> Wanna see a demo on how it works in dutch? Try `nltk.stem.snowball.demo()`"
      ]
    },
    {
      "cell_type": "markdown",
      "metadata": {
        "id": "0jVEFCVouz_z"
      },
      "source": [
        "As a general rule, the SnowballStemmer for English (a.k.a. Porter2), works better than the original Porter stemmer"
      ]
    },
    {
      "cell_type": "code",
      "execution_count": 37,
      "metadata": {
        "id": "3JNspliIuz_z",
        "outputId": "5b8f2dbf-3898-42bc-edf2-ab1cfac62b90",
        "colab": {
          "base_uri": "https://localhost:8080/"
        }
      },
      "outputs": [
        {
          "output_type": "stream",
          "name": "stdout",
          "text": [
            "gener\n",
            "generous\n"
          ]
        }
      ],
      "source": [
        "print(nltk.PorterStemmer().stem(\"generously\"))\n",
        "print(nltk.stem.snowball.SnowballStemmer(\"english\").stem(\"generously\"))"
      ]
    },
    {
      "cell_type": "markdown",
      "metadata": {
        "id": "E2iv5Ox-uz_z"
      },
      "source": [
        "### Lemmatization\n",
        "\n",
        "Lemmatizers use a **vocabulary** and **morphological information** to apply a more articulated set of rules in order to return **actual lemmas** (a.k.a. dictionary entries)"
      ]
    },
    {
      "cell_type": "markdown",
      "metadata": {
        "id": "pKSaUZIFuz_z"
      },
      "source": [
        "The WordNet lemmatizer removes the affixes of a token only if the resulting lemma is in WordNet\n",
        "\n",
        "- It is based on the WordNet `morphy` function"
      ]
    },
    {
      "cell_type": "code",
      "execution_count": 38,
      "metadata": {
        "id": "LWY7CdVzuz_z",
        "outputId": "1b1636ce-064b-43d0-eca1-7a473e4351d1",
        "colab": {
          "base_uri": "https://localhost:8080/",
          "height": 35
        }
      },
      "outputs": [
        {
          "output_type": "execute_result",
          "data": {
            "application/vnd.google.colaboratory.intrinsic+json": {
              "type": "string"
            },
            "text/plain": [
              "'woman'"
            ]
          },
          "metadata": {},
          "execution_count": 38
        }
      ],
      "source": [
        "# irregularities are easier to handle with a lemmatizer (if the word is in the vocabulary)\n",
        "nltk.WordNetLemmatizer().lemmatize(\"women\")"
      ]
    },
    {
      "cell_type": "code",
      "execution_count": 39,
      "metadata": {
        "id": "384et_SAuz_z",
        "outputId": "ec198cf0-b448-4e84-ba00-45e1a5100b1e",
        "colab": {
          "base_uri": "https://localhost:8080/",
          "height": 35
        }
      },
      "outputs": [
        {
          "output_type": "execute_result",
          "data": {
            "application/vnd.google.colaboratory.intrinsic+json": {
              "type": "string"
            },
            "text/plain": [
              "'flying'"
            ]
          },
          "metadata": {},
          "execution_count": 39
        }
      ],
      "source": [
        "# but it doesn't really handle some inflected forms ...\n",
        "nltk.WordNetLemmatizer().lemmatize(\"flying\")"
      ]
    },
    {
      "cell_type": "code",
      "execution_count": 40,
      "metadata": {
        "id": "vtrqXIekuz_0",
        "outputId": "ef233b29-525e-4692-d83a-a12cdf291aa1",
        "colab": {
          "base_uri": "https://localhost:8080/",
          "height": 35
        }
      },
      "outputs": [
        {
          "output_type": "execute_result",
          "data": {
            "application/vnd.google.colaboratory.intrinsic+json": {
              "type": "string"
            },
            "text/plain": [
              "'fly'"
            ]
          },
          "metadata": {},
          "execution_count": 40
        }
      ],
      "source": [
        "# ... but it is a PoS tagging issue, really. Let's tell it that we have the verb\n",
        "nltk.WordNetLemmatizer().lemmatize(\"flying\", pos = \"v\")"
      ]
    },
    {
      "cell_type": "markdown",
      "metadata": {
        "id": "smDJzyJFuz_0"
      },
      "source": [
        "### A quick-and-dirty comparison of Stemmers and the WN Lemmatizer"
      ]
    },
    {
      "cell_type": "code",
      "execution_count": 41,
      "metadata": {
        "scrolled": true,
        "id": "Uqao_oOVuz_0",
        "outputId": "cf0ad417-b87b-4930-a695-d370509e997a",
        "colab": {
          "base_uri": "https://localhost:8080/"
        }
      },
      "outputs": [
        {
          "output_type": "stream",
          "name": "stdout",
          "text": [
            "INPUT \t\t\t Porter \t Snowball \t Lancaster \t WN Lemmatizer\n",
            "-----------------------------------------------------------------------------------------\n",
            "agreed:  \t\t agre\t\t agre\t\t agree\t\t agreed\n",
            "caresses:  \t\t caress\t\t caress\t\t caress\t\t caress\n",
            "cement:  \t\t cement\t\t cement\t\t cem\t\t cement\n",
            "colonizer:  \t\t colon\t\t colon\t\t colon\t\t colonizer\n",
            "denied:  \t\t deni\t\t deni\t\t deny\t\t denied\n",
            "flies:  \t\t fli\t\t fli\t\t fli\t\t fly\n",
            "flying:  \t\t fli\t\t fli\t\t fly\t\t flying\n",
            "humbled:  \t\t humbl\t\t humbl\t\t humbl\t\t humbled\n",
            "itemization:  \t\t item\t\t item\t\t item\t\t itemization\n",
            "meeting:  \t\t meet\t\t meet\t\t meet\t\t meeting\n",
            "mules:  \t\t mule\t\t mule\t\t mul\t\t mule\n",
            "provision:  \t\t provis\t\t provis\t\t provid\t\t provision\n",
            "reference:  \t\t refer\t\t refer\t\t ref\t\t reference\n",
            "sensational:  \t\t sensat\t\t sensat\t\t sens\t\t sensational\n",
            "sized:  \t\t size\t\t size\t\t siz\t\t sized\n",
            "stating:  \t\t state\t\t state\t\t stat\t\t stating\n",
            "traditional:  \t\t tradit\t\t tradit\t\t tradit\t\t traditional\n",
            "women:  \t\t women\t\t women\t\t wom\t\t woman\n"
          ]
        }
      ],
      "source": [
        "words = ['caresses', 'flies', 'flying', 'mules', 'denied', 'agreed', 'humbled', 'sized',  'meeting', 'stating', \n",
        "         'itemization', 'sensational', 'traditional', 'reference', 'colonizer', 'provision', 'cement', 'women']\n",
        "\n",
        "print(\"INPUT\", \"\\t\\t\\t\", \"Porter\", \"\\t\", \"Snowball\", \"\\t\", \"Lancaster\", \"\\t\", \"WN Lemmatizer\")\n",
        "print(\"-\"*89)\n",
        "for w in sorted(words):\n",
        "    print(w+\":  \", end='')\n",
        "    for stemmer_function in [nltk.PorterStemmer().stem, nltk.stem.snowball.SnowballStemmer(\"english\").stem, \\\n",
        "                             nltk.LancasterStemmer().stem, nltk.WordNetLemmatizer().lemmatize]:\n",
        "        print(\"\\t\\t\", stemmer_function(w), end='')\n",
        "    print(\"\")"
      ]
    },
    {
      "cell_type": "markdown",
      "metadata": {
        "id": "bo6V0Pdvuz_0"
      },
      "source": [
        "#### How to choose?\n",
        "\n",
        "As a rule of thumb:\n",
        "\n",
        "- if you need to work with **real words**, use a lemmatizer (PoS information helps a lot)\n",
        "\n",
        "\n",
        "- if you need **speed**, choose a stemmer\n",
        "\n",
        "\n",
        "- if want to link morphological derivations (e.g. \"dreamable\") to their bases, a stemmer can be a quick-and-dirty solution"
      ]
    },
    {
      "cell_type": "markdown",
      "metadata": {
        "id": "BcshteDuuz_0"
      },
      "source": [
        "---"
      ]
    },
    {
      "cell_type": "markdown",
      "metadata": {
        "collapsed": true,
        "id": "mEdINzwquz_1"
      },
      "source": [
        "## PoS Tagging\n",
        "\n",
        "The proccess of automatically classifying words into their **lexical categories** \n",
        "\n",
        "- lexical categories are also called words classes, parts-of-speech, lexical tags..."
      ]
    },
    {
      "cell_type": "markdown",
      "metadata": {
        "id": "2bEvwW5Cuz_1"
      },
      "source": [
        "Lexical categories are divided into two main groups:\n",
        "\n",
        "- **open word classes** which constantly acquire new members:\n",
        "    - nouns, verbs, adjectives and adverbs\n",
        "\n",
        "\n",
        "- **closed class** when their inventory does not change over time (or much less so):\n",
        "    - e.g., pronouns, determiners, prepositions, conjunctions, auxiliary and modal verbs, numerals..."
      ]
    },
    {
      "cell_type": "markdown",
      "metadata": {
        "id": "ylR7ESaeuz_1"
      },
      "source": [
        "The collection of PoS tags used for a particular task is known as a **tagset**\n",
        "\n",
        "- The most common English tagset is the [**Penn Treebank**](https://www.ling.upenn.edu/courses/Fall_2003/ling001/penn_treebank_pos.html) one, containing the following tags:"
      ]
    },
    {
      "cell_type": "code",
      "execution_count": 42,
      "metadata": {
        "id": "U1FtNxwpuz_1"
      },
      "outputs": [],
      "source": [
        "# you might need to do this to download the related resource\n",
        "#nltk.download('tagsets')\n",
        "#nltk.download('universal_tagset')\n",
        "#nltk.download('brown')"
      ]
    },
    {
      "cell_type": "code",
      "execution_count": 43,
      "metadata": {
        "id": "50jcD8k-uz_1",
        "outputId": "30f88ee1-034f-45f7-f524-9d7c1e26657f",
        "colab": {
          "base_uri": "https://localhost:8080/"
        }
      },
      "outputs": [
        {
          "output_type": "stream",
          "name": "stdout",
          "text": [
            "$: dollar\n",
            "    $ -$ --$ A$ C$ HK$ M$ NZ$ S$ U.S.$ US$\n",
            "'': closing quotation mark\n",
            "    ' ''\n",
            "(: opening parenthesis\n",
            "    ( [ {\n",
            "): closing parenthesis\n",
            "    ) ] }\n",
            ",: comma\n",
            "    ,\n",
            "--: dash\n",
            "    --\n",
            ".: sentence terminator\n",
            "    . ! ?\n",
            ":: colon or ellipsis\n",
            "    : ; ...\n",
            "CC: conjunction, coordinating\n",
            "    & 'n and both but either et for less minus neither nor or plus so\n",
            "    therefore times v. versus vs. whether yet\n",
            "CD: numeral, cardinal\n",
            "    mid-1890 nine-thirty forty-two one-tenth ten million 0.5 one forty-\n",
            "    seven 1987 twenty '79 zero two 78-degrees eighty-four IX '60s .025\n",
            "    fifteen 271,124 dozen quintillion DM2,000 ...\n",
            "DT: determiner\n",
            "    all an another any both del each either every half la many much nary\n",
            "    neither no some such that the them these this those\n",
            "EX: existential there\n",
            "    there\n",
            "FW: foreign word\n",
            "    gemeinschaft hund ich jeux habeas Haementeria Herr K'ang-si vous\n",
            "    lutihaw alai je jour objets salutaris fille quibusdam pas trop Monte\n",
            "    terram fiche oui corporis ...\n",
            "IN: preposition or conjunction, subordinating\n",
            "    astride among uppon whether out inside pro despite on by throughout\n",
            "    below within for towards near behind atop around if like until below\n",
            "    next into if beside ...\n",
            "JJ: adjective or numeral, ordinal\n",
            "    third ill-mannered pre-war regrettable oiled calamitous first separable\n",
            "    ectoplasmic battery-powered participatory fourth still-to-be-named\n",
            "    multilingual multi-disciplinary ...\n",
            "JJR: adjective, comparative\n",
            "    bleaker braver breezier briefer brighter brisker broader bumper busier\n",
            "    calmer cheaper choosier cleaner clearer closer colder commoner costlier\n",
            "    cozier creamier crunchier cuter ...\n",
            "JJS: adjective, superlative\n",
            "    calmest cheapest choicest classiest cleanest clearest closest commonest\n",
            "    corniest costliest crassest creepiest crudest cutest darkest deadliest\n",
            "    dearest deepest densest dinkiest ...\n",
            "LS: list item marker\n",
            "    A A. B B. C C. D E F First G H I J K One SP-44001 SP-44002 SP-44005\n",
            "    SP-44007 Second Third Three Two * a b c d first five four one six three\n",
            "    two\n",
            "MD: modal auxiliary\n",
            "    can cannot could couldn't dare may might must need ought shall should\n",
            "    shouldn't will would\n",
            "NN: noun, common, singular or mass\n",
            "    common-carrier cabbage knuckle-duster Casino afghan shed thermostat\n",
            "    investment slide humour falloff slick wind hyena override subhumanity\n",
            "    machinist ...\n",
            "NNP: noun, proper, singular\n",
            "    Motown Venneboerger Czestochwa Ranzer Conchita Trumplane Christos\n",
            "    Oceanside Escobar Kreisler Sawyer Cougar Yvette Ervin ODI Darryl CTCA\n",
            "    Shannon A.K.C. Meltex Liverpool ...\n",
            "NNPS: noun, proper, plural\n",
            "    Americans Americas Amharas Amityvilles Amusements Anarcho-Syndicalists\n",
            "    Andalusians Andes Andruses Angels Animals Anthony Antilles Antiques\n",
            "    Apache Apaches Apocrypha ...\n",
            "NNS: noun, common, plural\n",
            "    undergraduates scotches bric-a-brac products bodyguards facets coasts\n",
            "    divestitures storehouses designs clubs fragrances averages\n",
            "    subjectivists apprehensions muses factory-jobs ...\n",
            "PDT: pre-determiner\n",
            "    all both half many quite such sure this\n",
            "POS: genitive marker\n",
            "    ' 's\n",
            "PRP: pronoun, personal\n",
            "    hers herself him himself hisself it itself me myself one oneself ours\n",
            "    ourselves ownself self she thee theirs them themselves they thou thy us\n",
            "PRP$: pronoun, possessive\n",
            "    her his mine my our ours their thy your\n",
            "RB: adverb\n",
            "    occasionally unabatingly maddeningly adventurously professedly\n",
            "    stirringly prominently technologically magisterially predominately\n",
            "    swiftly fiscally pitilessly ...\n",
            "RBR: adverb, comparative\n",
            "    further gloomier grander graver greater grimmer harder harsher\n",
            "    healthier heavier higher however larger later leaner lengthier less-\n",
            "    perfectly lesser lonelier longer louder lower more ...\n",
            "RBS: adverb, superlative\n",
            "    best biggest bluntest earliest farthest first furthest hardest\n",
            "    heartiest highest largest least less most nearest second tightest worst\n",
            "RP: particle\n",
            "    aboard about across along apart around aside at away back before behind\n",
            "    by crop down ever fast for forth from go high i.e. in into just later\n",
            "    low more off on open out over per pie raising start teeth that through\n",
            "    under unto up up-pp upon whole with you\n",
            "SYM: symbol\n",
            "    % & ' '' ''. ) ). * + ,. < = > @ A[fj] U.S U.S.S.R * ** ***\n",
            "TO: \"to\" as preposition or infinitive marker\n",
            "    to\n",
            "UH: interjection\n",
            "    Goodbye Goody Gosh Wow Jeepers Jee-sus Hubba Hey Kee-reist Oops amen\n",
            "    huh howdy uh dammit whammo shucks heck anyways whodunnit honey golly\n",
            "    man baby diddle hush sonuvabitch ...\n",
            "VB: verb, base form\n",
            "    ask assemble assess assign assume atone attention avoid bake balkanize\n",
            "    bank begin behold believe bend benefit bevel beware bless boil bomb\n",
            "    boost brace break bring broil brush build ...\n",
            "VBD: verb, past tense\n",
            "    dipped pleaded swiped regummed soaked tidied convened halted registered\n",
            "    cushioned exacted snubbed strode aimed adopted belied figgered\n",
            "    speculated wore appreciated contemplated ...\n",
            "VBG: verb, present participle or gerund\n",
            "    telegraphing stirring focusing angering judging stalling lactating\n",
            "    hankerin' alleging veering capping approaching traveling besieging\n",
            "    encrypting interrupting erasing wincing ...\n",
            "VBN: verb, past participle\n",
            "    multihulled dilapidated aerosolized chaired languished panelized used\n",
            "    experimented flourished imitated reunifed factored condensed sheared\n",
            "    unsettled primed dubbed desired ...\n",
            "VBP: verb, present tense, not 3rd person singular\n",
            "    predominate wrap resort sue twist spill cure lengthen brush terminate\n",
            "    appear tend stray glisten obtain comprise detest tease attract\n",
            "    emphasize mold postpone sever return wag ...\n",
            "VBZ: verb, present tense, 3rd person singular\n",
            "    bases reconstructs marks mixes displeases seals carps weaves snatches\n",
            "    slumps stretches authorizes smolders pictures emerges stockpiles\n",
            "    seduces fizzes uses bolsters slaps speaks pleads ...\n",
            "WDT: WH-determiner\n",
            "    that what whatever which whichever\n",
            "WP: WH-pronoun\n",
            "    that what whatever whatsoever which who whom whosoever\n",
            "WP$: WH-pronoun, possessive\n",
            "    whose\n",
            "WRB: Wh-adverb\n",
            "    how however whence whenever where whereby whereever wherein whereof why\n",
            "``: opening quotation mark\n",
            "    ` ``\n"
          ]
        }
      ],
      "source": [
        "nltk.help.upenn_tagset()"
      ]
    },
    {
      "cell_type": "markdown",
      "metadata": {
        "id": "ZtOAvu-Suz_2"
      },
      "source": [
        "Some distinctions are quite **hard for both humans and machines** :\n",
        "\n",
        "- preposition (IN), particle (RP) or adverb (RB)?\n",
        "    - You'll never get *around*/RP to watching all those movies\n",
        "    - Let's go *around*/IN the corner\n",
        "    - It costs *around*/RB 500 bucks\n",
        "\n",
        "\n",
        "- past participle (VBN) or adjective (JJ)?\n",
        "    - What the teacher said, has *interested*/VBN the student\n",
        "    - The student was *interested*/?? in what the teacher was saying\n",
        "    - The *interested*/JJ student was listening to the teacher\n",
        "\n",
        "\n",
        "- sometimes nouns can act like adjectives (i.e. they modify nouns):\n",
        "    - *science* teacher\n",
        "    - *government road accident research* centre"
      ]
    },
    {
      "cell_type": "markdown",
      "metadata": {
        "id": "PloC1bg2uz_2"
      },
      "source": [
        "Insecure about a **specific tag**? Ask NLTK!"
      ]
    },
    {
      "cell_type": "code",
      "execution_count": 45,
      "metadata": {
        "id": "YtuisJY9uz_2",
        "outputId": "01f8ab58-66b6-4e98-ccbd-144800a36f4c",
        "colab": {
          "base_uri": "https://localhost:8080/"
        }
      },
      "outputs": [
        {
          "output_type": "stream",
          "name": "stdout",
          "text": [
            "JJ: adjective or numeral, ordinal\n",
            "    third ill-mannered pre-war regrettable oiled calamitous first separable\n",
            "    ectoplasmic battery-powered participatory fourth still-to-be-named\n",
            "    multilingual multi-disciplinary ...\n"
          ]
        }
      ],
      "source": [
        "nltk.help.upenn_tagset(\"JJ\")"
      ]
    },
    {
      "cell_type": "code",
      "execution_count": 46,
      "metadata": {
        "id": "kJOhS7kIuz_2",
        "outputId": "af65b57f-58d4-4abd-9c3d-e5278785e78c",
        "colab": {
          "base_uri": "https://localhost:8080/"
        }
      },
      "outputs": [
        {
          "output_type": "stream",
          "name": "stdout",
          "text": [
            "NN: noun, common, singular or mass\n",
            "    common-carrier cabbage knuckle-duster Casino afghan shed thermostat\n",
            "    investment slide humour falloff slick wind hyena override subhumanity\n",
            "    machinist ...\n",
            "NNP: noun, proper, singular\n",
            "    Motown Venneboerger Czestochwa Ranzer Conchita Trumplane Christos\n",
            "    Oceanside Escobar Kreisler Sawyer Cougar Yvette Ervin ODI Darryl CTCA\n",
            "    Shannon A.K.C. Meltex Liverpool ...\n",
            "NNPS: noun, proper, plural\n",
            "    Americans Americas Amharas Amityvilles Amusements Anarcho-Syndicalists\n",
            "    Andalusians Andes Andruses Angels Animals Anthony Antilles Antiques\n",
            "    Apache Apaches Apocrypha ...\n",
            "NNS: noun, common, plural\n",
            "    undergraduates scotches bric-a-brac products bodyguards facets coasts\n",
            "    divestitures storehouses designs clubs fragrances averages\n",
            "    subjectivists apprehensions muses factory-jobs ...\n"
          ]
        }
      ],
      "source": [
        "# a group of tags\n",
        "nltk.help.upenn_tagset(\"NN*\")"
      ]
    },
    {
      "cell_type": "markdown",
      "metadata": {
        "id": "dqqnBo6buz_3"
      },
      "source": [
        "**Other tagsets** are available in NLTK, e.g., the Brown corpus"
      ]
    },
    {
      "cell_type": "code",
      "execution_count": null,
      "metadata": {
        "id": "iYIMF_qyuz_3",
        "outputId": "a92824a2-b1fd-467a-fd03-0372490ecd97"
      },
      "outputs": [
        {
          "name": "stdout",
          "output_type": "stream",
          "text": [
            "NN: noun, singular, common\n",
            "    failure burden court fire appointment awarding compensation Mayor\n",
            "    interim committee fact effect airport management surveillance jail\n",
            "    doctor intern extern night weekend duty legislation Tax Office ...\n",
            "NN$: noun, singular, common, genitive\n",
            "    season's world's player's night's chapter's golf's football's\n",
            "    baseball's club's U.'s coach's bride's bridegroom's board's county's\n",
            "    firm's company's superintendent's mob's Navy's ...\n",
            "NN+BEZ: noun, singular, common + verb 'to be', present tense, 3rd person singular\n",
            "    water's camera's sky's kid's Pa's heat's throat's father's money's\n",
            "    undersecretary's granite's level's wife's fat's Knife's fire's name's\n",
            "    hell's leg's sun's roulette's cane's guy's kind's baseball's ...\n",
            "NN+HVD: noun, singular, common + verb 'to have', past tense\n",
            "    Pa'd\n",
            "NN+HVZ: noun, singular, common + verb 'to have', present tense, 3rd person singular\n",
            "    guy's Knife's boat's summer's rain's company's\n",
            "NN+IN: noun, singular, common + preposition\n",
            "    buncha\n",
            "NN+MD: noun, singular, common + modal auxillary\n",
            "    cowhand'd sun'll\n",
            "NN+NN: noun, singular, common, hyphenated pair\n",
            "    stomach-belly\n",
            "NNS: noun, plural, common\n",
            "    irregularities presentments thanks reports voters laws legislators\n",
            "    years areas adjustments chambers $100 bonds courts sales details raises\n",
            "    sessions members congressmen votes polls calls ...\n",
            "NNS$: noun, plural, common, genitive\n",
            "    taxpayers' children's members' States' women's cutters' motorists'\n",
            "    steelmakers' hours' Nations' lawyers' prisoners' architects' tourists'\n",
            "    Employers' secretaries' Rogues' ...\n",
            "NNS+MD: noun, plural, common + modal auxillary\n",
            "    duds'd oystchers'll\n",
            "NP: noun, singular, proper\n",
            "    Fulton Atlanta September-October Durwood Pye Ivan Allen Jr. Jan.\n",
            "    Alpharetta Grady William B. Hartsfield Pearl Williams Aug. Berry J. M.\n",
            "    Cheshire Griffin Opelika Ala. E. Pelham Snodgrass ...\n",
            "NP$: noun, singular, proper, genitive\n",
            "    Green's Landis' Smith's Carreon's Allison's Boston's Spahn's Willie's\n",
            "    Mickey's Milwaukee's Mays' Howsam's Mantle's Shaw's Wagner's Rickey's\n",
            "    Shea's Palmer's Arnold's Broglio's ...\n",
            "NP+BEZ: noun, singular, proper + verb 'to be', present tense, 3rd person singular\n",
            "    W.'s Ike's Mack's Jack's Kate's Katharine's Black's Arthur's Seaton's\n",
            "    Buckhorn's Breed's Penny's Rob's Kitty's Blackwell's Myra's Wally's\n",
            "    Lucille's Springfield's Arlene's\n",
            "NP+HVZ: noun, singular, proper + verb 'to have', present tense, 3rd person singular\n",
            "    Bill's Guardino's Celie's Skolman's Crosson's Tim's Wally's\n",
            "NP+MD: noun, singular, proper + modal auxillary\n",
            "    Gyp'll John'll\n",
            "NPS: noun, plural, proper\n",
            "    Chases Aderholds Chapelles Armisteads Lockies Carbones French Marskmen\n",
            "    Toppers Franciscans Romans Cadillacs Masons Blacks Catholics British\n",
            "    Dixiecrats Mississippians Congresses ...\n",
            "NPS$: noun, plural, proper, genitive\n",
            "    Republicans' Orioles' Birds' Yanks' Redbirds' Bucs' Yankees' Stevenses'\n",
            "    Geraghtys' Burkes' Wackers' Achaeans' Dresbachs' Russians' Democrats'\n",
            "    Gershwins' Adventists' Negroes' Catholics' ...\n",
            "NR: noun, singular, adverbial\n",
            "    Friday home Wednesday Tuesday Monday Sunday Thursday yesterday tomorrow\n",
            "    tonight West East Saturday west left east downtown north northeast\n",
            "    southeast northwest North South right ...\n",
            "NR$: noun, singular, adverbial, genitive\n",
            "    Saturday's Monday's yesterday's tonight's tomorrow's Sunday's\n",
            "    Wednesday's Friday's today's Tuesday's West's Today's South's\n",
            "NR+MD: noun, singular, adverbial + modal auxillary\n",
            "    today'll\n",
            "NRS: noun, plural, adverbial\n",
            "    Sundays Mondays Saturdays Wednesdays Souths Fridays\n"
          ]
        }
      ],
      "source": [
        "# Brown corpus tagset\n",
        "\n",
        "nltk.help.brown_tagset(\"NN*\")"
      ]
    },
    {
      "cell_type": "markdown",
      "metadata": {
        "id": "6UpnG3jCuz_3"
      },
      "source": [
        "### Using a Tagger"
      ]
    },
    {
      "cell_type": "markdown",
      "metadata": {
        "id": "nO9rbaZPuz_3"
      },
      "source": [
        "The `nltk.pos_tag()` method allows you to launch the default NLTK pos tagger model on a **tokenized text** (i.e. on a list of words):"
      ]
    },
    {
      "cell_type": "code",
      "execution_count": null,
      "metadata": {
        "id": "8iFKAvlduz_4",
        "outputId": "25c7c0f8-1b91-404a-d88c-6c787f40b750"
      },
      "outputs": [
        {
          "name": "stdout",
          "output_type": "stream",
          "text": [
            "[('And', 'CC'), ('now', 'RB'), ('for', 'IN'), ('something', 'NN'), ('completely', 'RB'), ('different', 'JJ')]\n"
          ]
        }
      ],
      "source": [
        "text = nltk.word_tokenize(\"And now for something completely different\")\n",
        "# text = nltk.word_tokenize(\"I'm going to my place.\")\n",
        "print(nltk.pos_tag(text))"
      ]
    },
    {
      "cell_type": "markdown",
      "metadata": {
        "id": "MXo_uOzFuz_4"
      },
      "source": [
        "PoS-tagging requires a certain amount of disambiguation:"
      ]
    },
    {
      "cell_type": "code",
      "execution_count": 47,
      "metadata": {
        "id": "OM1vbcpouz_4",
        "outputId": "171cf516-8b36-4768-8b81-5d3ec99e5feb",
        "colab": {
          "base_uri": "https://localhost:8080/"
        }
      },
      "outputs": [
        {
          "output_type": "stream",
          "name": "stdout",
          "text": [
            "[('They', 'PRP'), ('refuse', 'VBP'), ('to', 'TO'), ('permit', 'VB'), ('us', 'PRP'), ('to', 'TO'), ('obtain', 'VB'), ('the', 'DT'), ('refuse', 'NN'), ('permit', 'NN')]\n"
          ]
        }
      ],
      "source": [
        "# compare the two classifications of the type \"refuse\"\n",
        "text = nltk.word_tokenize(\"They refuse to permit us to obtain the refuse permit\")\n",
        "print(nltk.pos_tag(text))"
      ]
    },
    {
      "cell_type": "markdown",
      "metadata": {
        "id": "TUMd5hLwuz_4"
      },
      "source": [
        "The `nltk.pos_tag_sents()` method is recommened for efficient tagging of more than one sentence."
      ]
    },
    {
      "cell_type": "code",
      "execution_count": 48,
      "metadata": {
        "id": "cIAMIo9Uuz_4",
        "outputId": "12af4a89-a067-418f-eed0-b27e742befc8",
        "colab": {
          "base_uri": "https://localhost:8080/"
        }
      },
      "outputs": [
        {
          "output_type": "stream",
          "name": "stdout",
          "text": [
            "[[('And', 'CC'), ('now', 'RB'), ('for', 'IN'), ('something', 'NN'), ('completely', 'RB'), ('different', 'JJ')], [('They', 'PRP'), ('refuse', 'VBP'), ('to', 'TO'), ('permit', 'VB'), ('us', 'PRP'), ('to', 'TO'), ('obtain', 'VB'), ('the', 'DT'), ('refuse', 'NN'), ('permit', 'NN')]]\n"
          ]
        }
      ],
      "source": [
        "print(nltk.pos_tag_sents([nltk.word_tokenize(\"And now for something completely different\"),\\\n",
        "                          nltk.word_tokenize(\"They refuse to permit us to obtain the refuse permit\"), ]))"
      ]
    },
    {
      "cell_type": "markdown",
      "metadata": {
        "id": "iMFRsICRuz_4"
      },
      "source": [
        "Other tagsets can be selected by using the `tagset` parameter. \n",
        "\n",
        "- For instance, to use the following **Universal tagset** proposed by [Petrov et al (2011)](https://arxiv.org/abs/1104.2086):\n",
        "\n",
        "|  tag  | meaning |\n",
        "|:-----:|:---------|\n",
        "| VERB | verbs (all tenses and modes) |\n",
        "| NOUN | nouns (common and proper) |\n",
        "| PRON | pronouns |\n",
        "| ADJ | adjectives |\n",
        "| ADV | adverbs |\n",
        "| ADP | adpositions (prepositions and postpositions) |\n",
        "| CONJ | conjunctions |\n",
        "| DET | determiners |\n",
        "| NUM | cardinal numbers |\n",
        "| PRT | particles or other function words |\n",
        "| X | other: foreign words, typos, abbreviations |\n",
        "| \\. | punctuation |"
      ]
    },
    {
      "cell_type": "code",
      "execution_count": 49,
      "metadata": {
        "id": "XLr4IEMQuz_5",
        "outputId": "0886a0be-a868-4d28-da84-884f89a05b1a",
        "colab": {
          "base_uri": "https://localhost:8080/"
        }
      },
      "outputs": [
        {
          "output_type": "stream",
          "name": "stdout",
          "text": [
            "[('They', 'PRON'), ('refuse', 'VERB'), ('to', 'PRT'), ('permit', 'VERB'), ('us', 'PRON'), ('to', 'PRT'), ('obtain', 'VERB'), ('the', 'DET'), ('refuse', 'NOUN'), ('permit', 'NOUN')]\n"
          ]
        }
      ],
      "source": [
        "text = nltk.word_tokenize(\"They refuse to permit us to obtain the refuse permit\")\n",
        "print(nltk.pos_tag(text, tagset=\"universal\"))"
      ]
    },
    {
      "cell_type": "markdown",
      "metadata": {
        "id": "K1BsnxcTuz_5"
      },
      "source": [
        "#### Available Taggers\n",
        "\n",
        "The default pos tagger model used by NLTK is the [Perceptron](https://github.com/sloria/textblob-aptagger) tagger. "
      ]
    },
    {
      "cell_type": "markdown",
      "metadata": {
        "id": "MjDRiRNwuz_5"
      },
      "source": [
        "NLTK provides other pos taggers among which:\n",
        "\n",
        "- the [TnT](http://www.coli.uni-saarland.de/~thorsten/tnt/) tagger: `nltk.tag.tnt.TnT()`\n",
        "\n",
        "\n",
        "- the [CRF](http://www.nltk.org/_modules/nltk/tag/crf.html) tagger: `nltk.tag.CRFTagger()`\n",
        "\n",
        "\n",
        "- various simple [N-gram](http://www.nltk.org/book/ch05.html#general-n-gram-tagging) taggers:  `nltk.tag.UnigramTagger()`, `nltk.tag.BigramTagger()`, `nltk.tag.TrigramTagger()` \n",
        "\n",
        "\n",
        "- a [regex-based](http://www.nltk.org/book/ch05.html#the-regular-expression-tagger) tagger `nltk.tag.sequential.RegexpTagger()`\n",
        "\n",
        "\n",
        "- a tagger that assign always the same tag ot each token: `nltk.tag.DefaultTagger()`, that can be used as a [backoff](http://www.nltk.org/book/ch05.html#combining-taggers) strategy"
      ]
    },
    {
      "cell_type": "markdown",
      "metadata": {
        "collapsed": true,
        "id": "qM7ZcQgouz_5"
      },
      "source": [
        "### Using the Stanford PoS Tagger"
      ]
    },
    {
      "cell_type": "markdown",
      "metadata": {
        "collapsed": true,
        "id": "kD0qATtHuz_5"
      },
      "source": [
        "NLTK provides interfaces to three tools of the Stanford CoreNLP suite:\n",
        "\n",
        "- the Stanford Log-linear Part-Of-Speech Tagger\n",
        "\n",
        "\n",
        "- the Stanford Parser \n",
        "\n",
        "\n",
        "- the Stanford Named Entity Recognizer (NER)"
      ]
    },
    {
      "cell_type": "markdown",
      "metadata": {
        "collapsed": true,
        "id": "SqrnRMybuz_5"
      },
      "source": [
        "The Stanford POS Tagger can be download from the [download section](https://nlp.stanford.edu/software/tagger.html#Download) of the official site. Two versions are available:\n",
        "\n",
        "\n",
        "- the basic English Stanford Tagger [25 MB]\n",
        "\n",
        "\n",
        "- the full Stanford Tagger [129 MB]\n",
        "\n",
        "Both versions contain a lot of pos tagger models, you can find more infos in `models/README-Models.txt "
      ]
    },
    {
      "cell_type": "markdown",
      "metadata": {
        "id": "X0mxrIC0uz_5"
      },
      "source": [
        "### Using the Stanford POS Tagger with the nltk.tag.stanford module"
      ]
    },
    {
      "cell_type": "markdown",
      "metadata": {
        "id": "Ft4IFMgNuz_6"
      },
      "source": [
        "Download one of the two Stanford packages above (the basic 25 MB one will do for now). Extract to your notebook working directory, and create an instance of `StanfordPOSTagger` with path arguments to a language model (here: 'english-bidirectional-distsim.tagger') and the Stanford tagger jar file (here: 'stanford-postagger-3.9.1.jar'). Using the `tag` method, we can now apply POS tags to a (split) string."
      ]
    },
    {
      "cell_type": "markdown",
      "metadata": {
        "scrolled": true,
        "id": "LXvJMuEluz_6"
      },
      "source": [
        "```Python\n",
        "from nltk.tag import StanfordPOSTagger\n",
        "\n",
        "st = StanfordPOSTagger('./stanford-postagger-2018-02-27/models/english-bidirectional-distsim.tagger',\\\n",
        "                       path_to_jar='./stanford-postagger-2018-02-27/stanford-postagger-3.9.1.jar')\n",
        "\n",
        "st.tag('What is the airspeed of an unladen swallow ?'.split())\n",
        "```"
      ]
    },
    {
      "cell_type": "markdown",
      "metadata": {
        "id": "3LOHhcW2uz_6"
      },
      "source": [
        "> **Suggested Readings**\n",
        ">\n",
        ">A nice tutorial on how NLTK taggers can be evaluated is available on [Natemccoy's Blog](https://natemccoy.github.io/2016/10/27/evaluatingnltktaggerstutorial.html)"
      ]
    },
    {
      "cell_type": "markdown",
      "metadata": {
        "id": "NSSJvSkRuz_6"
      },
      "source": [
        "### Tagged Corpora\n",
        "\n",
        "Several of the corpora included with NLTK have been tagged for their part-of-speech. \n",
        "\n",
        "Whenever a corpus contains tagged text, the NLTK corpus interface will have a `tagged_words()` method that will print `(token, tag)` tuples:"
      ]
    },
    {
      "cell_type": "code",
      "execution_count": 54,
      "metadata": {
        "id": "r7eJdRCouz_6",
        "outputId": "58b3b331-9417-4493-f9d0-ea322495dd37",
        "colab": {
          "base_uri": "https://localhost:8080/"
        }
      },
      "outputs": [
        {
          "output_type": "stream",
          "name": "stdout",
          "text": [
            "[('Pierre', 'NNP'), ('Vinken', 'NNP'), (',', ','), ('61', 'CD'), ('years', 'NNS'), ('old', 'JJ'), (',', ','), ('will', 'MD'), ('join', 'VB'), ('the', 'DT')]\n"
          ]
        }
      ],
      "source": [
        "print(nltk.corpus.treebank.tagged_words()[:10])"
      ]
    },
    {
      "cell_type": "markdown",
      "metadata": {
        "id": "FjP84qWWuz_6"
      },
      "source": [
        "A related method is `tagged_sents()`, that will retain the sentence structure of the text:"
      ]
    },
    {
      "cell_type": "code",
      "execution_count": 55,
      "metadata": {
        "id": "UCb822ltuz_7",
        "outputId": "5585e48d-7f5b-43ca-c00e-92745699d41b",
        "colab": {
          "base_uri": "https://localhost:8080/"
        }
      },
      "outputs": [
        {
          "output_type": "stream",
          "name": "stdout",
          "text": [
            "[[('Pierre', 'NNP'), ('Vinken', 'NNP'), (',', ','), ('61', 'CD'), ('years', 'NNS'), ('old', 'JJ'), (',', ','), ('will', 'MD'), ('join', 'VB'), ('the', 'DT'), ('board', 'NN'), ('as', 'IN'), ('a', 'DT'), ('nonexecutive', 'JJ'), ('director', 'NN'), ('Nov.', 'NNP'), ('29', 'CD'), ('.', '.')], [('Mr.', 'NNP'), ('Vinken', 'NNP'), ('is', 'VBZ'), ('chairman', 'NN'), ('of', 'IN'), ('Elsevier', 'NNP'), ('N.V.', 'NNP'), (',', ','), ('the', 'DT'), ('Dutch', 'NNP'), ('publishing', 'VBG'), ('group', 'NN'), ('.', '.')], [('Rudolph', 'NNP'), ('Agnew', 'NNP'), (',', ','), ('55', 'CD'), ('years', 'NNS'), ('old', 'JJ'), ('and', 'CC'), ('former', 'JJ'), ('chairman', 'NN'), ('of', 'IN'), ('Consolidated', 'NNP'), ('Gold', 'NNP'), ('Fields', 'NNP'), ('PLC', 'NNP'), (',', ','), ('was', 'VBD'), ('named', 'VBN'), ('*-1', '-NONE-'), ('a', 'DT'), ('nonexecutive', 'JJ'), ('director', 'NN'), ('of', 'IN'), ('this', 'DT'), ('British', 'JJ'), ('industrial', 'JJ'), ('conglomerate', 'NN'), ('.', '.')]]\n"
          ]
        }
      ],
      "source": [
        "print(nltk.corpus.treebank.tagged_sents()[:3])"
      ]
    },
    {
      "cell_type": "markdown",
      "metadata": {
        "id": "aIqO7GlPuz_7"
      },
      "source": [
        "Not all corpora employ the same tagset:"
      ]
    },
    {
      "cell_type": "code",
      "execution_count": 56,
      "metadata": {
        "id": "Lv8DYVjJuz_7",
        "outputId": "6c2644af-b9d5-4295-fb15-5dfa2a1d349d",
        "colab": {
          "base_uri": "https://localhost:8080/"
        }
      },
      "outputs": [
        {
          "output_type": "stream",
          "name": "stdout",
          "text": [
            "[('The', 'AT'), ('Fulton', 'NP-TL'), ('County', 'NN-TL'), ('Grand', 'JJ-TL'), ('Jury', 'NN-TL'), ('said', 'VBD'), ('Friday', 'NR'), ('an', 'AT'), ('investigation', 'NN'), ('of', 'IN'), (\"Atlanta's\", 'NP$'), ('recent', 'JJ'), ('primary', 'NN'), ('election', 'NN'), ('produced', 'VBD'), ('``', '``'), ('no', 'AT'), ('evidence', 'NN'), (\"''\", \"''\"), ('that', 'CS'), ('any', 'DTI'), ('irregularities', 'NNS'), ('took', 'VBD'), ('place', 'NN'), ('.', '.'), ('The', 'AT'), ('jury', 'NN'), ('further', 'RBR'), ('said', 'VBD'), ('in', 'IN'), ('term-end', 'NN'), ('presentments', 'NNS'), ('that', 'CS'), ('the', 'AT'), ('City', 'NN-TL'), ('Executive', 'JJ-TL'), ('Committee', 'NN-TL'), (',', ','), ('which', 'WDT'), ('had', 'HVD'), ('over-all', 'JJ'), ('charge', 'NN'), ('of', 'IN'), ('the', 'AT'), ('election', 'NN'), (',', ','), ('``', '``'), ('deserves', 'VBZ'), ('the', 'AT'), ('praise', 'NN'), ('and', 'CC'), ('thanks', 'NNS'), ('of', 'IN'), ('the', 'AT'), ('City', 'NN-TL'), ('of', 'IN-TL'), ('Atlanta', 'NP-TL'), (\"''\", \"''\"), ('for', 'IN'), ('the', 'AT'), ('manner', 'NN'), ('in', 'IN'), ('which', 'WDT'), ('the', 'AT'), ('election', 'NN'), ('was', 'BEDZ'), ('conducted', 'VBN'), ('.', '.')]\n"
          ]
        }
      ],
      "source": [
        "print(nltk.corpus.brown.tagged_words()[:68])"
      ]
    },
    {
      "cell_type": "markdown",
      "metadata": {
        "id": "F9QYQqEluz_7"
      },
      "source": [
        "Things can be made comparable by using the built-in [mapping](https://github.com/slavpetrov/universal-pos-tags) to the Universal Tagset"
      ]
    },
    {
      "cell_type": "code",
      "execution_count": 57,
      "metadata": {
        "id": "4NeLA0MJuz_7",
        "outputId": "cb111b73-a719-42dc-f9e0-3f08bd2fdc3e",
        "colab": {
          "base_uri": "https://localhost:8080/"
        }
      },
      "outputs": [
        {
          "output_type": "stream",
          "name": "stdout",
          "text": [
            "[('The', 'DET'), ('Fulton', 'NOUN'), ('County', 'NOUN'), ('Grand', 'ADJ'), ('Jury', 'NOUN'), ('said', 'VERB'), ('Friday', 'NOUN'), ('an', 'DET'), ('investigation', 'NOUN'), ('of', 'ADP'), (\"Atlanta's\", 'NOUN'), ('recent', 'ADJ'), ('primary', 'NOUN'), ('election', 'NOUN'), ('produced', 'VERB'), ('``', '.'), ('no', 'DET'), ('evidence', 'NOUN'), (\"''\", '.'), ('that', 'ADP'), ('any', 'DET'), ('irregularities', 'NOUN'), ('took', 'VERB'), ('place', 'NOUN'), ('.', '.'), ('The', 'DET'), ('jury', 'NOUN'), ('further', 'ADV'), ('said', 'VERB'), ('in', 'ADP'), ('term-end', 'NOUN'), ('presentments', 'NOUN'), ('that', 'ADP'), ('the', 'DET'), ('City', 'NOUN'), ('Executive', 'ADJ'), ('Committee', 'NOUN'), (',', '.'), ('which', 'DET'), ('had', 'VERB'), ('over-all', 'ADJ'), ('charge', 'NOUN'), ('of', 'ADP'), ('the', 'DET'), ('election', 'NOUN'), (',', '.'), ('``', '.'), ('deserves', 'VERB'), ('the', 'DET'), ('praise', 'NOUN'), ('and', 'CONJ'), ('thanks', 'NOUN'), ('of', 'ADP'), ('the', 'DET'), ('City', 'NOUN'), ('of', 'ADP'), ('Atlanta', 'NOUN'), (\"''\", '.'), ('for', 'ADP'), ('the', 'DET'), ('manner', 'NOUN'), ('in', 'ADP'), ('which', 'DET'), ('the', 'DET'), ('election', 'NOUN'), ('was', 'VERB'), ('conducted', 'VERB'), ('.', '.')]\n"
          ]
        }
      ],
      "source": [
        "print(nltk.corpus.brown.tagged_words(tagset='universal')[:68])"
      ]
    },
    {
      "cell_type": "code",
      "execution_count": 58,
      "metadata": {
        "id": "ILj2R3nLuz_7",
        "outputId": "621f2804-fed0-49d0-8118-110c4637fb02",
        "colab": {
          "base_uri": "https://localhost:8080/"
        }
      },
      "outputs": [
        {
          "output_type": "stream",
          "name": "stdout",
          "text": [
            "[('Pierre', 'NOUN'), ('Vinken', 'NOUN'), (',', '.'), ('61', 'NUM'), ('years', 'NOUN'), ('old', 'ADJ'), (',', '.'), ('will', 'VERB'), ('join', 'VERB'), ('the', 'DET'), ('board', 'NOUN'), ('as', 'ADP'), ('a', 'DET'), ('nonexecutive', 'ADJ'), ('director', 'NOUN'), ('Nov.', 'NOUN'), ('29', 'NUM'), ('.', '.'), ('Mr.', 'NOUN'), ('Vinken', 'NOUN'), ('is', 'VERB'), ('chairman', 'NOUN'), ('of', 'ADP'), ('Elsevier', 'NOUN'), ('N.V.', 'NOUN'), (',', '.'), ('the', 'DET'), ('Dutch', 'NOUN'), ('publishing', 'VERB'), ('group', 'NOUN'), ('.', '.'), ('Rudolph', 'NOUN'), ('Agnew', 'NOUN'), (',', '.'), ('55', 'NUM'), ('years', 'NOUN'), ('old', 'ADJ'), ('and', 'CONJ'), ('former', 'ADJ'), ('chairman', 'NOUN'), ('of', 'ADP'), ('Consolidated', 'NOUN'), ('Gold', 'NOUN'), ('Fields', 'NOUN'), ('PLC', 'NOUN'), (',', '.'), ('was', 'VERB'), ('named', 'VERB'), ('*-1', 'X'), ('a', 'DET'), ('nonexecutive', 'ADJ'), ('director', 'NOUN'), ('of', 'ADP'), ('this', 'DET'), ('British', 'ADJ'), ('industrial', 'ADJ'), ('conglomerate', 'NOUN'), ('.', '.')]\n"
          ]
        }
      ],
      "source": [
        "print(nltk.corpus.treebank.tagged_words(tagset='universal')[:58])"
      ]
    },
    {
      "cell_type": "markdown",
      "metadata": {
        "id": "zmwsxeKquz_8"
      },
      "source": [
        "### Exploiring Tagged  Corpora"
      ]
    },
    {
      "cell_type": "markdown",
      "metadata": {
        "id": "R4JA0Wfnuz_8"
      },
      "source": [
        "##### 1. Let's find the most frequent nouns of each noun part-of-speech type"
      ]
    },
    {
      "cell_type": "code",
      "execution_count": 60,
      "metadata": {
        "id": "8c-P2STQuz_8"
      },
      "outputs": [],
      "source": [
        "?nltk.ConditionalFreqDist"
      ]
    },
    {
      "cell_type": "code",
      "execution_count": 61,
      "metadata": {
        "id": "3UXZGkd8uz_8",
        "outputId": "bb2aea36-154e-459a-94cd-76dc056a396f",
        "colab": {
          "base_uri": "https://localhost:8080/"
        }
      },
      "outputs": [
        {
          "output_type": "stream",
          "name": "stdout",
          "text": [
            "NN [('year', 137), ('time', 97), ('state', 88), ('week', 85), ('man', 72)]\n",
            "NN$ [(\"year's\", 13), (\"world's\", 8), (\"state's\", 7), (\"nation's\", 6), (\"city's\", 6)]\n",
            "NN$-HL [(\"Golf's\", 1), (\"Navy's\", 1)]\n",
            "NN$-TL [(\"President's\", 11), (\"Administration's\", 3), (\"Army's\", 3), (\"League's\", 3), (\"University's\", 3)]\n",
            "NN-HL [('sp.', 2), ('problem', 2), ('Question', 2), ('cut', 2), ('party', 2)]\n",
            "NN-NC [('ova', 1), ('eva', 1), ('aya', 1)]\n",
            "NN-TL [('President', 88), ('House', 68), ('State', 59), ('University', 42), ('City', 41)]\n",
            "NN-TL-HL [('Fort', 2), ('Mayor', 1), ('Commissioner', 1), ('City', 1), ('Oak', 1)]\n",
            "NNS [('years', 101), ('members', 69), ('people', 52), ('sales', 51), ('men', 46)]\n",
            "NNS$ [(\"children's\", 7), (\"women's\", 5), (\"men's\", 3), (\"janitors'\", 3), (\"taxpayers'\", 2)]\n",
            "NNS$-HL [(\"Dealers'\", 1), (\"Idols'\", 1)]\n",
            "NNS$-TL [(\"Women's\", 4), (\"States'\", 3), (\"Giants'\", 2), (\"Princes'\", 1), (\"Bombers'\", 1)]\n",
            "NNS-HL [('Wards', 1), ('deputies', 1), ('bonds', 1), ('aspects', 1), ('Decisions', 1)]\n",
            "NNS-TL [('States', 38), ('Nations', 11), ('Masters', 10), ('Communists', 9), ('Rules', 9)]\n",
            "NNS-TL-HL [('Nations', 1)]\n"
          ]
        }
      ],
      "source": [
        "def findtags(tag_prefix, tagged_text):\n",
        "    cfd = nltk.ConditionalFreqDist((tag, word) for (word, tag) in tagged_text\n",
        "                                  if tag.startswith(tag_prefix))\n",
        "    return dict((tag, cfd[tag].most_common(5)) for tag in cfd.conditions())\n",
        "\n",
        "tagdict = findtags('NN', nltk.corpus.brown.tagged_words(categories='news'))\n",
        "\n",
        "for tag in sorted(tagdict):\n",
        "    print(tag, tagdict[tag])"
      ]
    },
    {
      "cell_type": "markdown",
      "metadata": {
        "id": "dCwWhBf-uz_9"
      },
      "source": [
        "##### 2. Suppose we're studying the word \"`often`\" and want to look at the part-of-speech tag of the following words:"
      ]
    },
    {
      "cell_type": "code",
      "execution_count": 63,
      "metadata": {
        "id": "QbdzyFaPuz_9",
        "outputId": "26a4161d-fea5-43e4-9a1a-4951e383d6e9",
        "colab": {
          "base_uri": "https://localhost:8080/"
        }
      },
      "outputs": [
        {
          "output_type": "stream",
          "name": "stdout",
          "text": [
            "VERB  ADV  ADP  ADJ    .  PRT \n",
            "  37    8    7    6    4    2 \n"
          ]
        }
      ],
      "source": [
        "brown_lrnd_tagged = nltk.corpus.brown.tagged_words(categories='learned', tagset='universal')\n",
        "\n",
        "tags = [b[1] for (a, b) in nltk.bigrams(brown_lrnd_tagged) if a[0] == 'often']\n",
        "\n",
        "nltk.FreqDist(tags).tabulate()"
      ]
    },
    {
      "cell_type": "code",
      "execution_count": 110,
      "metadata": {
        "id": "w6J-5oOXuz_9"
      },
      "outputs": [],
      "source": [
        "?nltk.bigrams"
      ]
    },
    {
      "cell_type": "markdown",
      "metadata": {
        "id": "cJozZYB7uz_-"
      },
      "source": [
        "---"
      ]
    },
    {
      "cell_type": "markdown",
      "metadata": {
        "id": "nUHDr7t3uz_-"
      },
      "source": [
        ">### Exercises\n",
        "> \n",
        "> \n",
        "> \n",
        "> \n",
        "> \n",
        "> Please try to solve the following exercises:\n",
        ">\n",
        "> - Use the word frequencies in the Brown corpus to:\n",
        ">\n",
        ">   - print the top 50 most frequent unigrams and bigrams (together with their frequencies). A bigram is a group of two subsequent words, e.g., \"this is good\": \"this is\", \"is good\". Check the `nltk.bigrams()` function\n",
        ">   - plot them too\n",
        ">\n",
        ">\n",
        "> - Lemmatize the Brown corpus and use the lemma frequencies to plot the 50 most frequent unigrams and bigrams. So, the same analysis as in the previous exercise, but with lemma frequencies this time.\n",
        ">\n",
        ">\n",
        "> - Using the universal tagset, PoS-tag the Brown corpus and:\n",
        ">\n",
        ">   - print a list of all words that are ambiguous, i.e. with three or more distinct associated PoS tags\n",
        ">\n",
        ">   - create a graph showing the *vocabulary growth* of the Brown corpus. Split the corpus into 10 (approximately) equal sized chunks, then run the following steps cumulatively over these chunks:\n",
        ">   \n",
        ">     - plot the number of open vs. closed class types in the corpus\n",
        ">\n",
        ">     - plot the numer of open vs. closed class *hapax legomena* in the corpus (i.e., words occurring only once)\n",
        ">\n",
        ">     In other words, first plot the results you get from only analyzing 10% of the corpus, then 20%, and so on. The y-axis should show the counts, while the x-axis should show an index of the current corpus portion/size."
      ]
    },
    {
      "cell_type": "markdown",
      "metadata": {
        "id": "HqKXB4vWuz_-"
      },
      "source": [
        "## In the real world\n",
        "\n",
        "Take a look at [spaCy pipelines](https://spacy.io/usage/processing-pipelines), an excellent choice for real-world applications."
      ]
    },
    {
      "cell_type": "markdown",
      "metadata": {
        "id": "-Y5TpERJuz__"
      },
      "source": [
        "1. Use the word frequencies in the Brown corpus to: print the top 50 most frequent unigrams and bigrams (together with their frequencies). A bigram is a group of two subsequent words, e.g., \"this is good\": \"this is\", \"is good\". Check the nltk.bigrams() function and\n",
        "plot them too."
      ]
    },
    {
      "cell_type": "code",
      "source": [
        "from nltk.probability import FreqDist\n",
        "import numpy as np\n",
        "import matplotlib.pyplot as plt\n",
        "# TASK 1: print the top 50 most frequent unigrams and bigrams with their frequencies\n",
        "\n",
        "# a)UNIGRAM FREQUENCIES\n",
        "\n",
        "# create a set of tokenized words from the Brown corpus <(o.o)> it's a bird hehe!\n",
        "unigrams = list(map(str.lower, nltk.corpus.brown.words())) # used mapping function to make all of the words lowercase\n",
        "print(unigrams[:10])\n",
        "\n",
        "# use FreqDist to find the first 50 most frequent unigrams\n",
        "unigram_freq = FreqDist(unigrams)\n",
        "top_50_unigrams = unigram_freq.most_common(50)\n",
        "print(top_50_unigrams) # it works yayyyy!!!\n",
        "\n",
        "# b)BIGRAM FREQUENCIES\n",
        "\n",
        "# create tokenized set of bigrams from Brown corpus\n",
        "bigrams = list(nltk.bigrams(unigrams))\n",
        "print(bigrams[:10])\n",
        "\n",
        "#use FreqDist to find the first 50 most frequent bigrams\n",
        "bigram_freq = FreqDist(bigrams)\n",
        "top_50_bigrams = bigram_freq.most_common(50)\n",
        "print(top_50_bigrams)\n",
        "\n",
        "# c) Plot the frequencies\n",
        "xs = [x[0] for x in top_50_unigrams]\n",
        "ys = [x[1] for x in top_50_unigrams]\n",
        "plt.bar(xs, ys)\n",
        "plt.xlabel('unigrams')\n",
        "plt.ylabel('frequency')\n",
        "plt.xticks(rotation=90)\n",
        "plt.show\n",
        "\n",
        "xsb = [x[0] for x in top_50_bigrams]\n",
        "ysb = [x[1] for x in top_50_bigrams]\n",
        "plt.bar(xsb, ysb)\n",
        "plt.xlabel('bigrams')\n",
        "plt.ylabel('frequency')\n",
        "plt.xticks(rotation=90)\n",
        "plt.show #fix later\n",
        "  \n",
        "\n",
        "# crushed it :l"
      ],
      "metadata": {
        "id": "dE6CdFcr5XEe",
        "outputId": "0eecfd93-96af-486f-a0a8-7d157a546570",
        "colab": {
          "base_uri": "https://localhost:8080/",
          "height": 873
        }
      },
      "execution_count": 132,
      "outputs": [
        {
          "output_type": "stream",
          "name": "stdout",
          "text": [
            "['the', 'fulton', 'county', 'grand', 'jury', 'said', 'friday', 'an', 'investigation', 'of']\n",
            "[('the', 69971), (',', 58334), ('.', 49346), ('of', 36412), ('and', 28853), ('to', 26158), ('a', 23195), ('in', 21337), ('that', 10594), ('is', 10109), ('was', 9815), ('he', 9548), ('for', 9489), ('``', 8837), (\"''\", 8789), ('it', 8760), ('with', 7289), ('as', 7253), ('his', 6996), ('on', 6741), ('be', 6377), (';', 5566), ('at', 5372), ('by', 5306), ('i', 5164), ('this', 5145), ('had', 5133), ('?', 4693), ('not', 4610), ('are', 4394), ('but', 4381), ('from', 4370), ('or', 4206), ('have', 3942), ('an', 3740), ('they', 3620), ('which', 3561), ('--', 3432), ('one', 3292), ('you', 3286), ('were', 3284), ('her', 3036), ('all', 3001), ('she', 2860), ('there', 2728), ('would', 2714), ('their', 2669), ('we', 2652), ('him', 2619), ('been', 2472)]\n",
            "[('the', 'fulton'), ('fulton', 'county'), ('county', 'grand'), ('grand', 'jury'), ('jury', 'said'), ('said', 'friday'), ('friday', 'an'), ('an', 'investigation'), ('investigation', 'of'), ('of', \"atlanta's\")]\n",
            "[(('of', 'the'), 9717), ((',', 'and'), 6302), (('.', 'the'), 6081), (('in', 'the'), 6025), ((',', 'the'), 3787), (('.', '``'), 3515), (('to', 'the'), 3484), ((\"''\", '.'), 3332), ((';', ';'), 2784), (('.', 'he'), 2660), (('on', 'the'), 2466), (('?', '?'), 2346), (('and', 'the'), 2246), ((\"''\", ','), 2032), ((',', 'but'), 1856), (('for', 'the'), 1852), (('.', 'it'), 1836), (('to', 'be'), 1718), (('at', 'the'), 1655), (('.', 'in'), 1619), (('with', 'the'), 1533), ((',', 'he'), 1495), (('of', 'a'), 1472), (('it', 'is'), 1470), (('in', 'a'), 1414), (('from', 'the'), 1411), (('that', 'the'), 1379), (('by', 'the'), 1347), ((',', 'a'), 1301), (('it', 'was'), 1296), (('.', 'but'), 1226), (('.', 'i'), 1197), ((',', '``'), 1093), (('he', 'was'), 1088), ((',', 'in'), 1066), (('.', 'this'), 1060), (('as', 'a'), 980), (('.', 'a'), 976), ((',', 'as'), 966), ((\"''\", '?'), 915), (('with', 'a'), 914), (('he', 'had'), 903), (('is', 'a'), 867), (('of', 'his'), 810), (('!', '!'), 798), (('is', 'the'), 795), (('for', 'a'), 791), (('was', 'a'), 777), ((',', 'it'), 777), (('.', 'they'), 773)]\n"
          ]
        },
        {
          "output_type": "error",
          "ename": "ConversionError",
          "evalue": "ignored",
          "traceback": [
            "\u001b[0;31m---------------------------------------------------------------------------\u001b[0m",
            "\u001b[0;31mTypeError\u001b[0m                                 Traceback (most recent call last)",
            "\u001b[0;32m/usr/local/lib/python3.7/dist-packages/matplotlib/axis.py\u001b[0m in \u001b[0;36mconvert_units\u001b[0;34m(self, x)\u001b[0m\n\u001b[1;32m   1572\u001b[0m         \u001b[0;32mtry\u001b[0m\u001b[0;34m:\u001b[0m\u001b[0;34m\u001b[0m\u001b[0;34m\u001b[0m\u001b[0m\n\u001b[0;32m-> 1573\u001b[0;31m             \u001b[0mret\u001b[0m \u001b[0;34m=\u001b[0m \u001b[0mself\u001b[0m\u001b[0;34m.\u001b[0m\u001b[0mconverter\u001b[0m\u001b[0;34m.\u001b[0m\u001b[0mconvert\u001b[0m\u001b[0;34m(\u001b[0m\u001b[0mx\u001b[0m\u001b[0;34m,\u001b[0m \u001b[0mself\u001b[0m\u001b[0;34m.\u001b[0m\u001b[0munits\u001b[0m\u001b[0;34m,\u001b[0m \u001b[0mself\u001b[0m\u001b[0;34m)\u001b[0m\u001b[0;34m\u001b[0m\u001b[0;34m\u001b[0m\u001b[0m\n\u001b[0m\u001b[1;32m   1574\u001b[0m         \u001b[0;32mexcept\u001b[0m \u001b[0mException\u001b[0m \u001b[0;32mas\u001b[0m \u001b[0me\u001b[0m\u001b[0;34m:\u001b[0m\u001b[0;34m\u001b[0m\u001b[0;34m\u001b[0m\u001b[0m\n",
            "\u001b[0;32m/usr/local/lib/python3.7/dist-packages/matplotlib/category.py\u001b[0m in \u001b[0;36mconvert\u001b[0;34m(value, unit, axis)\u001b[0m\n\u001b[1;32m     60\u001b[0m         \u001b[0;31m# force an update so it also does type checking\u001b[0m\u001b[0;34m\u001b[0m\u001b[0;34m\u001b[0m\u001b[0;34m\u001b[0m\u001b[0m\n\u001b[0;32m---> 61\u001b[0;31m         \u001b[0munit\u001b[0m\u001b[0;34m.\u001b[0m\u001b[0mupdate\u001b[0m\u001b[0;34m(\u001b[0m\u001b[0mvalues\u001b[0m\u001b[0;34m)\u001b[0m\u001b[0;34m\u001b[0m\u001b[0;34m\u001b[0m\u001b[0m\n\u001b[0m\u001b[1;32m     62\u001b[0m         \u001b[0;32mreturn\u001b[0m \u001b[0mnp\u001b[0m\u001b[0;34m.\u001b[0m\u001b[0mvectorize\u001b[0m\u001b[0;34m(\u001b[0m\u001b[0munit\u001b[0m\u001b[0;34m.\u001b[0m\u001b[0m_mapping\u001b[0m\u001b[0;34m.\u001b[0m\u001b[0m__getitem__\u001b[0m\u001b[0;34m,\u001b[0m \u001b[0motypes\u001b[0m\u001b[0;34m=\u001b[0m\u001b[0;34m[\u001b[0m\u001b[0mfloat\u001b[0m\u001b[0;34m]\u001b[0m\u001b[0;34m)\u001b[0m\u001b[0;34m(\u001b[0m\u001b[0mvalues\u001b[0m\u001b[0;34m)\u001b[0m\u001b[0;34m\u001b[0m\u001b[0;34m\u001b[0m\u001b[0m\n",
            "\u001b[0;32m/usr/local/lib/python3.7/dist-packages/matplotlib/category.py\u001b[0m in \u001b[0;36mupdate\u001b[0;34m(self, data)\u001b[0m\n\u001b[1;32m    209\u001b[0m         \u001b[0mconvertible\u001b[0m \u001b[0;34m=\u001b[0m \u001b[0;32mTrue\u001b[0m\u001b[0;34m\u001b[0m\u001b[0;34m\u001b[0m\u001b[0m\n\u001b[0;32m--> 210\u001b[0;31m         \u001b[0;32mfor\u001b[0m \u001b[0mval\u001b[0m \u001b[0;32min\u001b[0m \u001b[0mOrderedDict\u001b[0m\u001b[0;34m.\u001b[0m\u001b[0mfromkeys\u001b[0m\u001b[0;34m(\u001b[0m\u001b[0mdata\u001b[0m\u001b[0;34m)\u001b[0m\u001b[0;34m:\u001b[0m\u001b[0;34m\u001b[0m\u001b[0;34m\u001b[0m\u001b[0m\n\u001b[0m\u001b[1;32m    211\u001b[0m             \u001b[0;31m# OrderedDict just iterates over unique values in data.\u001b[0m\u001b[0;34m\u001b[0m\u001b[0;34m\u001b[0m\u001b[0;34m\u001b[0m\u001b[0m\n",
            "\u001b[0;31mTypeError\u001b[0m: unhashable type: 'numpy.ndarray'",
            "\nThe above exception was the direct cause of the following exception:\n",
            "\u001b[0;31mConversionError\u001b[0m                           Traceback (most recent call last)",
            "\u001b[0;32m<ipython-input-132-5e717a055e47>\u001b[0m in \u001b[0;36m<module>\u001b[0;34m()\u001b[0m\n\u001b[1;32m     37\u001b[0m \u001b[0mxsb\u001b[0m \u001b[0;34m=\u001b[0m \u001b[0;34m[\u001b[0m\u001b[0mx\u001b[0m\u001b[0;34m[\u001b[0m\u001b[0;36m0\u001b[0m\u001b[0;34m]\u001b[0m \u001b[0;32mfor\u001b[0m \u001b[0mx\u001b[0m \u001b[0;32min\u001b[0m \u001b[0mtop_50_bigrams\u001b[0m\u001b[0;34m]\u001b[0m\u001b[0;34m\u001b[0m\u001b[0;34m\u001b[0m\u001b[0m\n\u001b[1;32m     38\u001b[0m \u001b[0mysb\u001b[0m \u001b[0;34m=\u001b[0m \u001b[0;34m[\u001b[0m\u001b[0mx\u001b[0m\u001b[0;34m[\u001b[0m\u001b[0;36m1\u001b[0m\u001b[0;34m]\u001b[0m \u001b[0;32mfor\u001b[0m \u001b[0mx\u001b[0m \u001b[0;32min\u001b[0m \u001b[0mtop_50_bigrams\u001b[0m\u001b[0;34m]\u001b[0m\u001b[0;34m\u001b[0m\u001b[0;34m\u001b[0m\u001b[0m\n\u001b[0;32m---> 39\u001b[0;31m \u001b[0mplt\u001b[0m\u001b[0;34m.\u001b[0m\u001b[0mbar\u001b[0m\u001b[0;34m(\u001b[0m\u001b[0mxsb\u001b[0m\u001b[0;34m,\u001b[0m \u001b[0mysb\u001b[0m\u001b[0;34m)\u001b[0m\u001b[0;34m\u001b[0m\u001b[0;34m\u001b[0m\u001b[0m\n\u001b[0m\u001b[1;32m     40\u001b[0m \u001b[0mplt\u001b[0m\u001b[0;34m.\u001b[0m\u001b[0mxlabel\u001b[0m\u001b[0;34m(\u001b[0m\u001b[0;34m'bigrams'\u001b[0m\u001b[0;34m)\u001b[0m\u001b[0;34m\u001b[0m\u001b[0;34m\u001b[0m\u001b[0m\n\u001b[1;32m     41\u001b[0m \u001b[0mplt\u001b[0m\u001b[0;34m.\u001b[0m\u001b[0mylabel\u001b[0m\u001b[0;34m(\u001b[0m\u001b[0;34m'frequency'\u001b[0m\u001b[0;34m)\u001b[0m\u001b[0;34m\u001b[0m\u001b[0;34m\u001b[0m\u001b[0m\n",
            "\u001b[0;32m/usr/local/lib/python3.7/dist-packages/matplotlib/pyplot.py\u001b[0m in \u001b[0;36mbar\u001b[0;34m(x, height, width, bottom, align, data, **kwargs)\u001b[0m\n\u001b[1;32m   2407\u001b[0m     return gca().bar(\n\u001b[1;32m   2408\u001b[0m         \u001b[0mx\u001b[0m\u001b[0;34m,\u001b[0m \u001b[0mheight\u001b[0m\u001b[0;34m,\u001b[0m \u001b[0mwidth\u001b[0m\u001b[0;34m=\u001b[0m\u001b[0mwidth\u001b[0m\u001b[0;34m,\u001b[0m \u001b[0mbottom\u001b[0m\u001b[0;34m=\u001b[0m\u001b[0mbottom\u001b[0m\u001b[0;34m,\u001b[0m \u001b[0malign\u001b[0m\u001b[0;34m=\u001b[0m\u001b[0malign\u001b[0m\u001b[0;34m,\u001b[0m\u001b[0;34m\u001b[0m\u001b[0;34m\u001b[0m\u001b[0m\n\u001b[0;32m-> 2409\u001b[0;31m         **({\"data\": data} if data is not None else {}), **kwargs)\n\u001b[0m\u001b[1;32m   2410\u001b[0m \u001b[0;34m\u001b[0m\u001b[0m\n\u001b[1;32m   2411\u001b[0m \u001b[0;34m\u001b[0m\u001b[0m\n",
            "\u001b[0;32m/usr/local/lib/python3.7/dist-packages/matplotlib/__init__.py\u001b[0m in \u001b[0;36minner\u001b[0;34m(ax, data, *args, **kwargs)\u001b[0m\n\u001b[1;32m   1563\u001b[0m     \u001b[0;32mdef\u001b[0m \u001b[0minner\u001b[0m\u001b[0;34m(\u001b[0m\u001b[0max\u001b[0m\u001b[0;34m,\u001b[0m \u001b[0;34m*\u001b[0m\u001b[0margs\u001b[0m\u001b[0;34m,\u001b[0m \u001b[0mdata\u001b[0m\u001b[0;34m=\u001b[0m\u001b[0;32mNone\u001b[0m\u001b[0;34m,\u001b[0m \u001b[0;34m**\u001b[0m\u001b[0mkwargs\u001b[0m\u001b[0;34m)\u001b[0m\u001b[0;34m:\u001b[0m\u001b[0;34m\u001b[0m\u001b[0;34m\u001b[0m\u001b[0m\n\u001b[1;32m   1564\u001b[0m         \u001b[0;32mif\u001b[0m \u001b[0mdata\u001b[0m \u001b[0;32mis\u001b[0m \u001b[0;32mNone\u001b[0m\u001b[0;34m:\u001b[0m\u001b[0;34m\u001b[0m\u001b[0;34m\u001b[0m\u001b[0m\n\u001b[0;32m-> 1565\u001b[0;31m             \u001b[0;32mreturn\u001b[0m \u001b[0mfunc\u001b[0m\u001b[0;34m(\u001b[0m\u001b[0max\u001b[0m\u001b[0;34m,\u001b[0m \u001b[0;34m*\u001b[0m\u001b[0mmap\u001b[0m\u001b[0;34m(\u001b[0m\u001b[0msanitize_sequence\u001b[0m\u001b[0;34m,\u001b[0m \u001b[0margs\u001b[0m\u001b[0;34m)\u001b[0m\u001b[0;34m,\u001b[0m \u001b[0;34m**\u001b[0m\u001b[0mkwargs\u001b[0m\u001b[0;34m)\u001b[0m\u001b[0;34m\u001b[0m\u001b[0;34m\u001b[0m\u001b[0m\n\u001b[0m\u001b[1;32m   1566\u001b[0m \u001b[0;34m\u001b[0m\u001b[0m\n\u001b[1;32m   1567\u001b[0m         \u001b[0mbound\u001b[0m \u001b[0;34m=\u001b[0m \u001b[0mnew_sig\u001b[0m\u001b[0;34m.\u001b[0m\u001b[0mbind\u001b[0m\u001b[0;34m(\u001b[0m\u001b[0max\u001b[0m\u001b[0;34m,\u001b[0m \u001b[0;34m*\u001b[0m\u001b[0margs\u001b[0m\u001b[0;34m,\u001b[0m \u001b[0;34m**\u001b[0m\u001b[0mkwargs\u001b[0m\u001b[0;34m)\u001b[0m\u001b[0;34m\u001b[0m\u001b[0;34m\u001b[0m\u001b[0m\n",
            "\u001b[0;32m/usr/local/lib/python3.7/dist-packages/matplotlib/axes/_axes.py\u001b[0m in \u001b[0;36mbar\u001b[0;34m(self, x, height, width, bottom, align, **kwargs)\u001b[0m\n\u001b[1;32m   2327\u001b[0m         \u001b[0;32mif\u001b[0m \u001b[0mself\u001b[0m\u001b[0;34m.\u001b[0m\u001b[0mxaxis\u001b[0m \u001b[0;32mis\u001b[0m \u001b[0;32mnot\u001b[0m \u001b[0;32mNone\u001b[0m\u001b[0;34m:\u001b[0m\u001b[0;34m\u001b[0m\u001b[0;34m\u001b[0m\u001b[0m\n\u001b[1;32m   2328\u001b[0m             \u001b[0mx0\u001b[0m \u001b[0;34m=\u001b[0m \u001b[0mx\u001b[0m\u001b[0;34m\u001b[0m\u001b[0;34m\u001b[0m\u001b[0m\n\u001b[0;32m-> 2329\u001b[0;31m             \u001b[0mx\u001b[0m \u001b[0;34m=\u001b[0m \u001b[0mnp\u001b[0m\u001b[0;34m.\u001b[0m\u001b[0masarray\u001b[0m\u001b[0;34m(\u001b[0m\u001b[0mself\u001b[0m\u001b[0;34m.\u001b[0m\u001b[0mconvert_xunits\u001b[0m\u001b[0;34m(\u001b[0m\u001b[0mx\u001b[0m\u001b[0;34m)\u001b[0m\u001b[0;34m)\u001b[0m\u001b[0;34m\u001b[0m\u001b[0;34m\u001b[0m\u001b[0m\n\u001b[0m\u001b[1;32m   2330\u001b[0m             \u001b[0mwidth\u001b[0m \u001b[0;34m=\u001b[0m \u001b[0mself\u001b[0m\u001b[0;34m.\u001b[0m\u001b[0m_convert_dx\u001b[0m\u001b[0;34m(\u001b[0m\u001b[0mwidth\u001b[0m\u001b[0;34m,\u001b[0m \u001b[0mx0\u001b[0m\u001b[0;34m,\u001b[0m \u001b[0mx\u001b[0m\u001b[0;34m,\u001b[0m \u001b[0mself\u001b[0m\u001b[0;34m.\u001b[0m\u001b[0mconvert_xunits\u001b[0m\u001b[0;34m)\u001b[0m\u001b[0;34m\u001b[0m\u001b[0;34m\u001b[0m\u001b[0m\n\u001b[1;32m   2331\u001b[0m             \u001b[0;32mif\u001b[0m \u001b[0mxerr\u001b[0m \u001b[0;32mis\u001b[0m \u001b[0;32mnot\u001b[0m \u001b[0;32mNone\u001b[0m\u001b[0;34m:\u001b[0m\u001b[0;34m\u001b[0m\u001b[0;34m\u001b[0m\u001b[0m\n",
            "\u001b[0;32m/usr/local/lib/python3.7/dist-packages/matplotlib/artist.py\u001b[0m in \u001b[0;36mconvert_xunits\u001b[0;34m(self, x)\u001b[0m\n\u001b[1;32m    176\u001b[0m         \u001b[0;32mif\u001b[0m \u001b[0max\u001b[0m \u001b[0;32mis\u001b[0m \u001b[0;32mNone\u001b[0m \u001b[0;32mor\u001b[0m \u001b[0max\u001b[0m\u001b[0;34m.\u001b[0m\u001b[0mxaxis\u001b[0m \u001b[0;32mis\u001b[0m \u001b[0;32mNone\u001b[0m\u001b[0;34m:\u001b[0m\u001b[0;34m\u001b[0m\u001b[0;34m\u001b[0m\u001b[0m\n\u001b[1;32m    177\u001b[0m             \u001b[0;32mreturn\u001b[0m \u001b[0mx\u001b[0m\u001b[0;34m\u001b[0m\u001b[0;34m\u001b[0m\u001b[0m\n\u001b[0;32m--> 178\u001b[0;31m         \u001b[0;32mreturn\u001b[0m \u001b[0max\u001b[0m\u001b[0;34m.\u001b[0m\u001b[0mxaxis\u001b[0m\u001b[0;34m.\u001b[0m\u001b[0mconvert_units\u001b[0m\u001b[0;34m(\u001b[0m\u001b[0mx\u001b[0m\u001b[0;34m)\u001b[0m\u001b[0;34m\u001b[0m\u001b[0;34m\u001b[0m\u001b[0m\n\u001b[0m\u001b[1;32m    179\u001b[0m \u001b[0;34m\u001b[0m\u001b[0m\n\u001b[1;32m    180\u001b[0m     \u001b[0;32mdef\u001b[0m \u001b[0mconvert_yunits\u001b[0m\u001b[0;34m(\u001b[0m\u001b[0mself\u001b[0m\u001b[0;34m,\u001b[0m \u001b[0my\u001b[0m\u001b[0;34m)\u001b[0m\u001b[0;34m:\u001b[0m\u001b[0;34m\u001b[0m\u001b[0;34m\u001b[0m\u001b[0m\n",
            "\u001b[0;32m/usr/local/lib/python3.7/dist-packages/matplotlib/axis.py\u001b[0m in \u001b[0;36mconvert_units\u001b[0;34m(self, x)\u001b[0m\n\u001b[1;32m   1574\u001b[0m         \u001b[0;32mexcept\u001b[0m \u001b[0mException\u001b[0m \u001b[0;32mas\u001b[0m \u001b[0me\u001b[0m\u001b[0;34m:\u001b[0m\u001b[0;34m\u001b[0m\u001b[0;34m\u001b[0m\u001b[0m\n\u001b[1;32m   1575\u001b[0m             raise munits.ConversionError('Failed to convert value(s) to axis '\n\u001b[0;32m-> 1576\u001b[0;31m                                          f'units: {x!r}') from e\n\u001b[0m\u001b[1;32m   1577\u001b[0m         \u001b[0;32mreturn\u001b[0m \u001b[0mret\u001b[0m\u001b[0;34m\u001b[0m\u001b[0;34m\u001b[0m\u001b[0m\n\u001b[1;32m   1578\u001b[0m \u001b[0;34m\u001b[0m\u001b[0m\n",
            "\u001b[0;31mConversionError\u001b[0m: Failed to convert value(s) to axis units: [('of', 'the'), (',', 'and'), ('.', 'the'), ('in', 'the'), (',', 'the'), ('.', '``'), ('to', 'the'), (\"''\", '.'), (';', ';'), ('.', 'he'), ('on', 'the'), ('?', '?'), ('and', 'the'), (\"''\", ','), (',', 'but'), ('for', 'the'), ('.', 'it'), ('to', 'be'), ('at', 'the'), ('.', 'in'), ('with', 'the'), (',', 'he'), ('of', 'a'), ('it', 'is'), ('in', 'a'), ('from', 'the'), ('that', 'the'), ('by', 'the'), (',', 'a'), ('it', 'was'), ('.', 'but'), ('.', 'i'), (',', '``'), ('he', 'was'), (',', 'in'), ('.', 'this'), ('as', 'a'), ('.', 'a'), (',', 'as'), (\"''\", '?'), ('with', 'a'), ('he', 'had'), ('is', 'a'), ('of', 'his'), ('!', '!'), ('is', 'the'), ('for', 'a'), ('was', 'a'), (',', 'it'), ('.', 'they')]"
          ]
        },
        {
          "output_type": "display_data",
          "data": {
            "image/png": "[encoded data removed]",
            "text/plain": [
              "<Figure size 432x288 with 1 Axes>"
            ]
          },
          "metadata": {
            "needs_background": "light"
          }
        }
      ]
    },
    {
      "cell_type": "code",
      "source": [
        ""
      ],
      "metadata": {
        "id": "jTkftbo---L5"
      },
      "execution_count": null,
      "outputs": []
    }
  ],
  "metadata": {
    "kernelspec": {
      "display_name": "Python 3",
      "language": "python",
      "name": "python3"
    },
    "language_info": {
      "codemirror_mode": {
        "name": "ipython",
        "version": 3
      },
      "file_extension": ".py",
      "mimetype": "text/x-python",
      "name": "python",
      "nbconvert_exporter": "python",
      "pygments_lexer": "ipython3",
      "version": "3.8.5"
    },
    "toc": {
      "base_numbering": 1,
      "nav_menu": {},
      "number_sections": true,
      "sideBar": true,
      "skip_h1_title": false,
      "title_cell": "Table of Contents",
      "title_sidebar": "Contents",
      "toc_cell": false,
      "toc_position": {},
      "toc_section_display": true,
      "toc_window_display": true
    },
    "colab": {
      "name": "2_NLP_pipelines.ipynb",
      "provenance": []
    }
  },
  "nbformat": 4,
  "nbformat_minor": 0
}