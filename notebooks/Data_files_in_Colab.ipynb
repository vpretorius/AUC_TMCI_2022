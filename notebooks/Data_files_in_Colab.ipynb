{
  "nbformat": 4,
  "nbformat_minor": 0,
  "metadata": {
    "colab": {
      "name": "Data files in Colab.ipynb",
      "provenance": [],
      "authorship_tag": "ABX9TyNJStmPecSnCb41My2bwcnT",
      "include_colab_link": true
    },
    "kernelspec": {
      "name": "python3",
      "display_name": "Python 3"
    },
    "language_info": {
      "name": "python"
    }
  },
  "cells": [
    {
      "cell_type": "markdown",
      "metadata": {
        "id": "view-in-github",
        "colab_type": "text"
      },
      "source": [
        "<a href=\"https://colab.research.google.com/github/bloemj/AUC_TMCI_2022/blob/main/notebooks/Data_files_in_Colab.ipynb\" target=\"_parent\"><img src=\"https://colab.research.google.com/assets/colab-badge.svg\" alt=\"Open In Colab\"/></a>"
      ]
    },
    {
      "cell_type": "markdown",
      "source": [
        "# Loading files in Google Colab notebooks"
      ],
      "metadata": {
        "id": "WRR5RyujJMEb"
      }
    },
    {
      "cell_type": "markdown",
      "source": [
        "In Google Colab, you can make use of files containing data by uploading them: on the left, click \"Upload to session storage\" and choose the files you want to use.\n",
        "You can also first make a new folder called \"data\" and put the files there.\n",
        "\n",
        "However, these files will only be available during your session - if you quit and come back later, you will have to upload them again."
      ],
      "metadata": {
        "id": "ZIQuBo1NNBMm"
      }
    },
    {
      "cell_type": "markdown",
      "source": [
        "## Data in Google Drive"
      ],
      "metadata": {
        "id": "yaD98Cj7O8i_"
      }
    },
    {
      "cell_type": "markdown",
      "source": [
        "To have more persistent access to files, it is possible to link Colab to your Google Drive. Then, you can easily read data files using your notebook, without having to upload the files to Colab each time.\n",
        "\n",
        "\n"
      ],
      "metadata": {
        "id": "FTis_tKAIq8q"
      }
    },
    {
      "cell_type": "code",
      "source": [
        "from google.colab import drive\n",
        "drive.mount('/content/drive')"
      ],
      "metadata": {
        "id": "otqSG--zIjef"
      },
      "execution_count": null,
      "outputs": []
    },
    {
      "cell_type": "markdown",
      "source": [
        "If you keep your data files in your Google Drive, you will be able to access them from there."
      ],
      "metadata": {
        "id": "qIqvZVNkNmEh"
      }
    },
    {
      "cell_type": "markdown",
      "source": [
        "## Whole repository in Google Drive"
      ],
      "metadata": {
        "id": "SraXm-t9PAo1"
      }
    },
    {
      "cell_type": "markdown",
      "source": [
        "If you know what you are doing, a more advanced option is to keep your whole fork of the course repository in Google Drive. Then, you can access not only the files but also the notebooks from your Drive, and easily modify them."
      ],
      "metadata": {
        "id": "mLGXoD2QNvOG"
      }
    },
    {
      "cell_type": "markdown",
      "source": [
        "To do this, clone your fork of the course repository to a folder in Google Drive (\"MyDrive\" in this case). Be careful with this command, because if you do it again later without saving your changes to your Github fork, your changes will be overwritten and you lose them."
      ],
      "metadata": {
        "id": "ZtUmdty6IxPE"
      }
    },
    {
      "cell_type": "code",
      "source": [
        "import os\n",
        "os.chdir(\"/content/drive/MyDrive\")\n",
        "!git clone https://github.com/bloemj/AUC_TMCI_2022.git #replace with your own fork of the course materials"
      ],
      "metadata": {
        "id": "hSnxQn4bIpH_"
      },
      "execution_count": null,
      "outputs": []
    },
    {
      "cell_type": "markdown",
      "source": [
        "Now, the data files for the course will be in /content/drive/MyDrive/AUC_TMCI_2022/notebooks/data\n",
        "\n",
        "Pushing changes back to Github with git in Colab is complicated, due to security measures. The easier way to do it is to \"Save a copy in GitHub\" if you have worked on a notebook."
      ],
      "metadata": {
        "id": "QZPBPVzuJm5D"
      }
    },
    {
      "cell_type": "markdown",
      "source": [
        "If you have made changes to your fork or I have made changes to the course materials, you can pull these changes using Colab also. Just make sure you are in the directory of the repository, and then pull:"
      ],
      "metadata": {
        "id": "1WzzybMvOjDS"
      }
    },
    {
      "cell_type": "code",
      "source": [
        "import os\n",
        "os.chdir(\"/content/drive/MyDrive/AUC_TMCI_2022\")\n",
        "!git pull"
      ],
      "metadata": {
        "id": "gB3evpv1OvPX"
      },
      "execution_count": null,
      "outputs": []
    }
  ]
}